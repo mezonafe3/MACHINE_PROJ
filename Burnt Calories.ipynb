{
 "cells": [
  {
   "cell_type": "markdown",
   "id": "e11e20c3",
   "metadata": {
    "papermill": {
     "duration": 0.017192,
     "end_time": "2023-05-20T08:04:53.476874",
     "exception": false,
     "start_time": "2023-05-20T08:04:53.459682",
     "status": "completed"
    },
    "tags": []
   },
   "source": [
    "# Import Libraries"
   ]
  },
  {
   "cell_type": "code",
   "execution_count": 154,
   "id": "68c8d6db",
   "metadata": {
    "_cell_guid": "b1076dfc-b9ad-4769-8c92-a6c4dae69d19",
    "_uuid": "8f2839f25d086af736a60e9eeb907d3b93b6e0e5",
    "execution": {
     "iopub.execute_input": "2023-05-20T08:05:05.485632Z",
     "iopub.status.busy": "2023-05-20T08:05:05.485156Z",
     "iopub.status.idle": "2023-05-20T08:05:07.688250Z",
     "shell.execute_reply": "2023-05-20T08:05:07.687335Z"
    },
    "papermill": {
     "duration": 2.218609,
     "end_time": "2023-05-20T08:05:07.690099",
     "exception": false,
     "start_time": "2023-05-20T08:05:05.471490",
     "status": "completed"
    },
    "tags": []
   },
   "outputs": [],
   "source": [
    "import numpy as np\n",
    "import pandas as pd\n",
    "import matplotlib.pyplot as plt\n",
    "import seaborn as sns\n",
    "from sklearn.preprocessing import LabelEncoder, StandardScaler\n",
    "from sklearn.model_selection import train_test_split\n",
    "from sklearn.naive_bayes import GaussianNB\n",
    "from sklearn.linear_model import LogisticRegression,Perceptron\n",
    "from sklearn.linear_model import LinearRegression\n",
    "from sklearn.metrics import mean_squared_error, r2_score\n",
    "from sklearn.model_selection import cross_val_score, KFold, train_test_split\n",
    "from sklearn.ensemble import RandomForestClassifier\n",
    "from sklearn.metrics import roc_curve\n",
    "from sklearn.svm import SVC\n",
    "from sklearn.neighbors import KNeighborsClassifier\n",
    "from sklearn.neighbors import KNeighborsRegressor\n",
    "from sklearn.metrics import precision_score, recall_score, accuracy_score, f1_score, classification_report, confusion_matrix, ConfusionMatrixDisplay, PrecisionRecallDisplay, RocCurveDisplay"
   ]
  },
  {
   "cell_type": "markdown",
   "id": "9a597793",
   "metadata": {
    "papermill": {
     "duration": 0.013165,
     "end_time": "2023-05-20T08:05:07.715822",
     "exception": false,
     "start_time": "2023-05-20T08:05:07.702657",
     "status": "completed"
    },
    "tags": []
   },
   "source": [
    "# Load Data"
   ]
  },
  {
   "cell_type": "code",
   "execution_count": 91,
   "id": "c3d8e60c",
   "metadata": {
    "execution": {
     "iopub.execute_input": "2023-05-20T08:05:07.744340Z",
     "iopub.status.busy": "2023-05-20T08:05:07.743190Z",
     "iopub.status.idle": "2023-05-20T08:05:07.832883Z",
     "shell.execute_reply": "2023-05-20T08:05:07.831617Z"
    },
    "papermill": {
     "duration": 0.106488,
     "end_time": "2023-05-20T08:05:07.835088",
     "exception": false,
     "start_time": "2023-05-20T08:05:07.728600",
     "status": "completed"
    },
    "tags": []
   },
   "outputs": [
    {
     "data": {
      "text/html": [
       "<div>\n",
       "<style scoped>\n",
       "    .dataframe tbody tr th:only-of-type {\n",
       "        vertical-align: middle;\n",
       "    }\n",
       "\n",
       "    .dataframe tbody tr th {\n",
       "        vertical-align: top;\n",
       "    }\n",
       "\n",
       "    .dataframe thead th {\n",
       "        text-align: right;\n",
       "    }\n",
       "</style>\n",
       "<table border=\"1\" class=\"dataframe\">\n",
       "  <thead>\n",
       "    <tr style=\"text-align: right;\">\n",
       "      <th></th>\n",
       "      <th>User_ID</th>\n",
       "      <th>Gender</th>\n",
       "      <th>Age</th>\n",
       "      <th>Height</th>\n",
       "      <th>Weight</th>\n",
       "      <th>Duration</th>\n",
       "      <th>Heart_Rate</th>\n",
       "      <th>Body_Temp</th>\n",
       "      <th>Calories</th>\n",
       "    </tr>\n",
       "  </thead>\n",
       "  <tbody>\n",
       "    <tr>\n",
       "      <th>0</th>\n",
       "      <td>14733363</td>\n",
       "      <td>male</td>\n",
       "      <td>68</td>\n",
       "      <td>190.0</td>\n",
       "      <td>94.0</td>\n",
       "      <td>29.0</td>\n",
       "      <td>105.0</td>\n",
       "      <td>40.8</td>\n",
       "      <td>231.0</td>\n",
       "    </tr>\n",
       "    <tr>\n",
       "      <th>1</th>\n",
       "      <td>14861698</td>\n",
       "      <td>female</td>\n",
       "      <td>20</td>\n",
       "      <td>166.0</td>\n",
       "      <td>60.0</td>\n",
       "      <td>14.0</td>\n",
       "      <td>94.0</td>\n",
       "      <td>40.3</td>\n",
       "      <td>66.0</td>\n",
       "    </tr>\n",
       "    <tr>\n",
       "      <th>2</th>\n",
       "      <td>11179863</td>\n",
       "      <td>male</td>\n",
       "      <td>69</td>\n",
       "      <td>179.0</td>\n",
       "      <td>79.0</td>\n",
       "      <td>5.0</td>\n",
       "      <td>88.0</td>\n",
       "      <td>38.7</td>\n",
       "      <td>26.0</td>\n",
       "    </tr>\n",
       "    <tr>\n",
       "      <th>3</th>\n",
       "      <td>16180408</td>\n",
       "      <td>female</td>\n",
       "      <td>34</td>\n",
       "      <td>179.0</td>\n",
       "      <td>71.0</td>\n",
       "      <td>13.0</td>\n",
       "      <td>100.0</td>\n",
       "      <td>40.5</td>\n",
       "      <td>71.0</td>\n",
       "    </tr>\n",
       "    <tr>\n",
       "      <th>4</th>\n",
       "      <td>17771927</td>\n",
       "      <td>female</td>\n",
       "      <td>27</td>\n",
       "      <td>154.0</td>\n",
       "      <td>58.0</td>\n",
       "      <td>10.0</td>\n",
       "      <td>81.0</td>\n",
       "      <td>39.8</td>\n",
       "      <td>35.0</td>\n",
       "    </tr>\n",
       "    <tr>\n",
       "      <th>...</th>\n",
       "      <td>...</td>\n",
       "      <td>...</td>\n",
       "      <td>...</td>\n",
       "      <td>...</td>\n",
       "      <td>...</td>\n",
       "      <td>...</td>\n",
       "      <td>...</td>\n",
       "      <td>...</td>\n",
       "      <td>...</td>\n",
       "    </tr>\n",
       "    <tr>\n",
       "      <th>14995</th>\n",
       "      <td>15644082</td>\n",
       "      <td>female</td>\n",
       "      <td>20</td>\n",
       "      <td>193.0</td>\n",
       "      <td>86.0</td>\n",
       "      <td>11.0</td>\n",
       "      <td>92.0</td>\n",
       "      <td>40.4</td>\n",
       "      <td>45.0</td>\n",
       "    </tr>\n",
       "    <tr>\n",
       "      <th>14996</th>\n",
       "      <td>17212577</td>\n",
       "      <td>female</td>\n",
       "      <td>27</td>\n",
       "      <td>165.0</td>\n",
       "      <td>65.0</td>\n",
       "      <td>6.0</td>\n",
       "      <td>85.0</td>\n",
       "      <td>39.2</td>\n",
       "      <td>23.0</td>\n",
       "    </tr>\n",
       "    <tr>\n",
       "      <th>14997</th>\n",
       "      <td>17271188</td>\n",
       "      <td>female</td>\n",
       "      <td>43</td>\n",
       "      <td>159.0</td>\n",
       "      <td>58.0</td>\n",
       "      <td>16.0</td>\n",
       "      <td>90.0</td>\n",
       "      <td>40.1</td>\n",
       "      <td>75.0</td>\n",
       "    </tr>\n",
       "    <tr>\n",
       "      <th>14998</th>\n",
       "      <td>18643037</td>\n",
       "      <td>male</td>\n",
       "      <td>78</td>\n",
       "      <td>193.0</td>\n",
       "      <td>97.0</td>\n",
       "      <td>2.0</td>\n",
       "      <td>84.0</td>\n",
       "      <td>38.3</td>\n",
       "      <td>11.0</td>\n",
       "    </tr>\n",
       "    <tr>\n",
       "      <th>14999</th>\n",
       "      <td>11751526</td>\n",
       "      <td>male</td>\n",
       "      <td>63</td>\n",
       "      <td>173.0</td>\n",
       "      <td>79.0</td>\n",
       "      <td>18.0</td>\n",
       "      <td>92.0</td>\n",
       "      <td>40.5</td>\n",
       "      <td>98.0</td>\n",
       "    </tr>\n",
       "  </tbody>\n",
       "</table>\n",
       "<p>15000 rows × 9 columns</p>\n",
       "</div>"
      ],
      "text/plain": [
       "        User_ID  Gender  Age  Height  Weight  Duration  Heart_Rate  Body_Temp  \\\n",
       "0      14733363    male   68   190.0    94.0      29.0       105.0       40.8   \n",
       "1      14861698  female   20   166.0    60.0      14.0        94.0       40.3   \n",
       "2      11179863    male   69   179.0    79.0       5.0        88.0       38.7   \n",
       "3      16180408  female   34   179.0    71.0      13.0       100.0       40.5   \n",
       "4      17771927  female   27   154.0    58.0      10.0        81.0       39.8   \n",
       "...         ...     ...  ...     ...     ...       ...         ...        ...   \n",
       "14995  15644082  female   20   193.0    86.0      11.0        92.0       40.4   \n",
       "14996  17212577  female   27   165.0    65.0       6.0        85.0       39.2   \n",
       "14997  17271188  female   43   159.0    58.0      16.0        90.0       40.1   \n",
       "14998  18643037    male   78   193.0    97.0       2.0        84.0       38.3   \n",
       "14999  11751526    male   63   173.0    79.0      18.0        92.0       40.5   \n",
       "\n",
       "       Calories  \n",
       "0         231.0  \n",
       "1          66.0  \n",
       "2          26.0  \n",
       "3          71.0  \n",
       "4          35.0  \n",
       "...         ...  \n",
       "14995      45.0  \n",
       "14996      23.0  \n",
       "14997      75.0  \n",
       "14998      11.0  \n",
       "14999      98.0  \n",
       "\n",
       "[15000 rows x 9 columns]"
      ]
     },
     "execution_count": 91,
     "metadata": {},
     "output_type": "execute_result"
    }
   ],
   "source": [
    "calories = pd.read_csv(\"calories.csv\",sep=\",\")\n",
    "exercise  = pd.read_csv(\"exercise.csv\",sep=\",\")\n",
    "\n",
    "df = pd.concat([exercise,calories['Calories']], axis=1)\n",
    "df"
   ]
  },
  {
   "cell_type": "markdown",
   "id": "e0f84852",
   "metadata": {
    "papermill": {
     "duration": 0.012708,
     "end_time": "2023-05-20T08:05:07.860882",
     "exception": false,
     "start_time": "2023-05-20T08:05:07.848174",
     "status": "completed"
    },
    "tags": []
   },
   "source": [
    "# Data Cleaning, Information & Visualization"
   ]
  },
  {
   "cell_type": "code",
   "execution_count": 92,
   "id": "b598afe4",
   "metadata": {
    "execution": {
     "iopub.execute_input": "2023-05-20T08:05:07.890237Z",
     "iopub.status.busy": "2023-05-20T08:05:07.889326Z",
     "iopub.status.idle": "2023-05-20T08:05:07.914074Z",
     "shell.execute_reply": "2023-05-20T08:05:07.913023Z"
    },
    "papermill": {
     "duration": 0.042855,
     "end_time": "2023-05-20T08:05:07.916693",
     "exception": false,
     "start_time": "2023-05-20T08:05:07.873838",
     "status": "completed"
    },
    "tags": []
   },
   "outputs": [
    {
     "name": "stdout",
     "output_type": "stream",
     "text": [
      "<class 'pandas.core.frame.DataFrame'>\n",
      "RangeIndex: 15000 entries, 0 to 14999\n",
      "Data columns (total 9 columns):\n",
      " #   Column      Non-Null Count  Dtype  \n",
      "---  ------      --------------  -----  \n",
      " 0   User_ID     15000 non-null  int64  \n",
      " 1   Gender      15000 non-null  object \n",
      " 2   Age         15000 non-null  int64  \n",
      " 3   Height      15000 non-null  float64\n",
      " 4   Weight      15000 non-null  float64\n",
      " 5   Duration    15000 non-null  float64\n",
      " 6   Heart_Rate  15000 non-null  float64\n",
      " 7   Body_Temp   15000 non-null  float64\n",
      " 8   Calories    15000 non-null  float64\n",
      "dtypes: float64(6), int64(2), object(1)\n",
      "memory usage: 1.0+ MB\n"
     ]
    }
   ],
   "source": [
    "df.info()"
   ]
  },
  {
   "cell_type": "code",
   "execution_count": 93,
   "id": "df7cb245",
   "metadata": {
    "execution": {
     "iopub.execute_input": "2023-05-20T08:05:07.946754Z",
     "iopub.status.busy": "2023-05-20T08:05:07.946392Z",
     "iopub.status.idle": "2023-05-20T08:05:07.954860Z",
     "shell.execute_reply": "2023-05-20T08:05:07.954058Z"
    },
    "papermill": {
     "duration": 0.026448,
     "end_time": "2023-05-20T08:05:07.956560",
     "exception": false,
     "start_time": "2023-05-20T08:05:07.930112",
     "status": "completed"
    },
    "tags": []
   },
   "outputs": [
    {
     "data": {
      "text/plain": [
       "User_ID       0\n",
       "Gender        0\n",
       "Age           0\n",
       "Height        0\n",
       "Weight        0\n",
       "Duration      0\n",
       "Heart_Rate    0\n",
       "Body_Temp     0\n",
       "Calories      0\n",
       "dtype: int64"
      ]
     },
     "execution_count": 93,
     "metadata": {},
     "output_type": "execute_result"
    }
   ],
   "source": [
    "df.isnull().sum()"
   ]
  },
  {
   "cell_type": "code",
   "execution_count": 94,
   "id": "f59a0dc8",
   "metadata": {
    "execution": {
     "iopub.execute_input": "2023-05-20T08:05:07.984948Z",
     "iopub.status.busy": "2023-05-20T08:05:07.984349Z",
     "iopub.status.idle": "2023-05-20T08:05:07.989033Z",
     "shell.execute_reply": "2023-05-20T08:05:07.988423Z"
    },
    "papermill": {
     "duration": 0.020549,
     "end_time": "2023-05-20T08:05:07.990463",
     "exception": false,
     "start_time": "2023-05-20T08:05:07.969914",
     "status": "completed"
    },
    "tags": []
   },
   "outputs": [
    {
     "data": {
      "text/plain": [
       "(15000, 9)"
      ]
     },
     "execution_count": 94,
     "metadata": {},
     "output_type": "execute_result"
    }
   ],
   "source": [
    "df.shape"
   ]
  },
  {
   "cell_type": "code",
   "execution_count": 95,
   "id": "fe522ce0",
   "metadata": {
    "execution": {
     "iopub.execute_input": "2023-05-20T08:05:08.018921Z",
     "iopub.status.busy": "2023-05-20T08:05:08.018346Z",
     "iopub.status.idle": "2023-05-20T08:05:08.023867Z",
     "shell.execute_reply": "2023-05-20T08:05:08.022719Z"
    },
    "papermill": {
     "duration": 0.022126,
     "end_time": "2023-05-20T08:05:08.025670",
     "exception": false,
     "start_time": "2023-05-20T08:05:08.003544",
     "status": "completed"
    },
    "tags": []
   },
   "outputs": [
    {
     "data": {
      "text/plain": [
       "135000"
      ]
     },
     "execution_count": 95,
     "metadata": {},
     "output_type": "execute_result"
    }
   ],
   "source": [
    "df.size"
   ]
  },
  {
   "cell_type": "code",
   "execution_count": 96,
   "id": "2c7395d8",
   "metadata": {
    "execution": {
     "iopub.execute_input": "2023-05-20T08:05:08.055074Z",
     "iopub.status.busy": "2023-05-20T08:05:08.054443Z",
     "iopub.status.idle": "2023-05-20T08:05:08.140602Z",
     "shell.execute_reply": "2023-05-20T08:05:08.139255Z"
    },
    "papermill": {
     "duration": 0.103382,
     "end_time": "2023-05-20T08:05:08.142940",
     "exception": false,
     "start_time": "2023-05-20T08:05:08.039558",
     "status": "completed"
    },
    "tags": []
   },
   "outputs": [
    {
     "data": {
      "text/html": [
       "<div>\n",
       "<style scoped>\n",
       "    .dataframe tbody tr th:only-of-type {\n",
       "        vertical-align: middle;\n",
       "    }\n",
       "\n",
       "    .dataframe tbody tr th {\n",
       "        vertical-align: top;\n",
       "    }\n",
       "\n",
       "    .dataframe thead th {\n",
       "        text-align: right;\n",
       "    }\n",
       "</style>\n",
       "<table border=\"1\" class=\"dataframe\">\n",
       "  <thead>\n",
       "    <tr style=\"text-align: right;\">\n",
       "      <th></th>\n",
       "      <th>count</th>\n",
       "      <th>mean</th>\n",
       "      <th>std</th>\n",
       "      <th>min</th>\n",
       "      <th>25%</th>\n",
       "      <th>50%</th>\n",
       "      <th>75%</th>\n",
       "      <th>max</th>\n",
       "    </tr>\n",
       "  </thead>\n",
       "  <tbody>\n",
       "    <tr>\n",
       "      <th>User_ID</th>\n",
       "      <td>15000.0</td>\n",
       "      <td>1.497736e+07</td>\n",
       "      <td>2.872851e+06</td>\n",
       "      <td>10001159.0</td>\n",
       "      <td>12474190.75</td>\n",
       "      <td>14997285.0</td>\n",
       "      <td>17449278.75</td>\n",
       "      <td>19999647.0</td>\n",
       "    </tr>\n",
       "    <tr>\n",
       "      <th>Age</th>\n",
       "      <td>15000.0</td>\n",
       "      <td>4.278980e+01</td>\n",
       "      <td>1.698026e+01</td>\n",
       "      <td>20.0</td>\n",
       "      <td>28.00</td>\n",
       "      <td>39.0</td>\n",
       "      <td>56.00</td>\n",
       "      <td>79.0</td>\n",
       "    </tr>\n",
       "    <tr>\n",
       "      <th>Height</th>\n",
       "      <td>15000.0</td>\n",
       "      <td>1.744651e+02</td>\n",
       "      <td>1.425811e+01</td>\n",
       "      <td>123.0</td>\n",
       "      <td>164.00</td>\n",
       "      <td>175.0</td>\n",
       "      <td>185.00</td>\n",
       "      <td>222.0</td>\n",
       "    </tr>\n",
       "    <tr>\n",
       "      <th>Weight</th>\n",
       "      <td>15000.0</td>\n",
       "      <td>7.496687e+01</td>\n",
       "      <td>1.503566e+01</td>\n",
       "      <td>36.0</td>\n",
       "      <td>63.00</td>\n",
       "      <td>74.0</td>\n",
       "      <td>87.00</td>\n",
       "      <td>132.0</td>\n",
       "    </tr>\n",
       "    <tr>\n",
       "      <th>Duration</th>\n",
       "      <td>15000.0</td>\n",
       "      <td>1.553060e+01</td>\n",
       "      <td>8.319203e+00</td>\n",
       "      <td>1.0</td>\n",
       "      <td>8.00</td>\n",
       "      <td>16.0</td>\n",
       "      <td>23.00</td>\n",
       "      <td>30.0</td>\n",
       "    </tr>\n",
       "    <tr>\n",
       "      <th>Heart_Rate</th>\n",
       "      <td>15000.0</td>\n",
       "      <td>9.551853e+01</td>\n",
       "      <td>9.583328e+00</td>\n",
       "      <td>67.0</td>\n",
       "      <td>88.00</td>\n",
       "      <td>96.0</td>\n",
       "      <td>103.00</td>\n",
       "      <td>128.0</td>\n",
       "    </tr>\n",
       "    <tr>\n",
       "      <th>Body_Temp</th>\n",
       "      <td>15000.0</td>\n",
       "      <td>4.002545e+01</td>\n",
       "      <td>7.792299e-01</td>\n",
       "      <td>37.1</td>\n",
       "      <td>39.60</td>\n",
       "      <td>40.2</td>\n",
       "      <td>40.60</td>\n",
       "      <td>41.5</td>\n",
       "    </tr>\n",
       "    <tr>\n",
       "      <th>Calories</th>\n",
       "      <td>15000.0</td>\n",
       "      <td>8.953953e+01</td>\n",
       "      <td>6.245698e+01</td>\n",
       "      <td>1.0</td>\n",
       "      <td>35.00</td>\n",
       "      <td>79.0</td>\n",
       "      <td>138.00</td>\n",
       "      <td>314.0</td>\n",
       "    </tr>\n",
       "  </tbody>\n",
       "</table>\n",
       "</div>"
      ],
      "text/plain": [
       "              count          mean           std         min          25%  \\\n",
       "User_ID     15000.0  1.497736e+07  2.872851e+06  10001159.0  12474190.75   \n",
       "Age         15000.0  4.278980e+01  1.698026e+01        20.0        28.00   \n",
       "Height      15000.0  1.744651e+02  1.425811e+01       123.0       164.00   \n",
       "Weight      15000.0  7.496687e+01  1.503566e+01        36.0        63.00   \n",
       "Duration    15000.0  1.553060e+01  8.319203e+00         1.0         8.00   \n",
       "Heart_Rate  15000.0  9.551853e+01  9.583328e+00        67.0        88.00   \n",
       "Body_Temp   15000.0  4.002545e+01  7.792299e-01        37.1        39.60   \n",
       "Calories    15000.0  8.953953e+01  6.245698e+01         1.0        35.00   \n",
       "\n",
       "                   50%          75%         max  \n",
       "User_ID     14997285.0  17449278.75  19999647.0  \n",
       "Age               39.0        56.00        79.0  \n",
       "Height           175.0       185.00       222.0  \n",
       "Weight            74.0        87.00       132.0  \n",
       "Duration          16.0        23.00        30.0  \n",
       "Heart_Rate        96.0       103.00       128.0  \n",
       "Body_Temp         40.2        40.60        41.5  \n",
       "Calories          79.0       138.00       314.0  "
      ]
     },
     "execution_count": 96,
     "metadata": {},
     "output_type": "execute_result"
    }
   ],
   "source": [
    "df.describe().T"
   ]
  },
  {
   "cell_type": "code",
   "execution_count": 97,
   "id": "8f60df4e",
   "metadata": {
    "execution": {
     "iopub.execute_input": "2023-05-20T08:05:10.067017Z",
     "iopub.status.busy": "2023-05-20T08:05:10.066694Z",
     "iopub.status.idle": "2023-05-20T08:05:10.073524Z",
     "shell.execute_reply": "2023-05-20T08:05:10.072744Z"
    },
    "papermill": {
     "duration": 0.025335,
     "end_time": "2023-05-20T08:05:10.075142",
     "exception": false,
     "start_time": "2023-05-20T08:05:10.049807",
     "status": "completed"
    },
    "tags": []
   },
   "outputs": [
    {
     "data": {
      "text/plain": [
       "Gender\n",
       "female    7553\n",
       "male      7447\n",
       "Name: count, dtype: int64"
      ]
     },
     "execution_count": 97,
     "metadata": {},
     "output_type": "execute_result"
    }
   ],
   "source": [
    "df['Gender'].value_counts()"
   ]
  },
  {
   "cell_type": "code",
   "execution_count": 98,
   "id": "2b12c590",
   "metadata": {
    "execution": {
     "iopub.execute_input": "2023-05-20T08:05:10.108396Z",
     "iopub.status.busy": "2023-05-20T08:05:10.107826Z",
     "iopub.status.idle": "2023-05-20T08:05:10.114002Z",
     "shell.execute_reply": "2023-05-20T08:05:10.112987Z"
    },
    "papermill": {
     "duration": 0.02538,
     "end_time": "2023-05-20T08:05:10.116040",
     "exception": false,
     "start_time": "2023-05-20T08:05:10.090660",
     "status": "completed"
    },
    "tags": []
   },
   "outputs": [],
   "source": [
    "df['Gender'] = LabelEncoder().fit_transform(df['Gender'])"
   ]
  },
  {
   "cell_type": "code",
   "execution_count": 99,
   "id": "217c3a78",
   "metadata": {
    "execution": {
     "iopub.execute_input": "2023-05-20T08:05:10.152045Z",
     "iopub.status.busy": "2023-05-20T08:05:10.151477Z",
     "iopub.status.idle": "2023-05-20T08:05:10.158749Z",
     "shell.execute_reply": "2023-05-20T08:05:10.157954Z"
    },
    "papermill": {
     "duration": 0.027613,
     "end_time": "2023-05-20T08:05:10.160547",
     "exception": false,
     "start_time": "2023-05-20T08:05:10.132934",
     "status": "completed"
    },
    "tags": []
   },
   "outputs": [
    {
     "data": {
      "text/plain": [
       "Gender\n",
       "0    7553\n",
       "1    7447\n",
       "Name: count, dtype: int64"
      ]
     },
     "execution_count": 99,
     "metadata": {},
     "output_type": "execute_result"
    }
   ],
   "source": [
    "df['Gender'].value_counts()"
   ]
  },
  {
   "cell_type": "markdown",
   "id": "9d70fa86",
   "metadata": {
    "papermill": {
     "duration": 0.029552,
     "end_time": "2023-05-20T08:05:19.681797",
     "exception": false,
     "start_time": "2023-05-20T08:05:19.652245",
     "status": "completed"
    },
    "tags": []
   },
   "source": [
    "# Standard Scaling the Data"
   ]
  },
  {
   "cell_type": "code",
   "execution_count": 100,
   "id": "de8bf136",
   "metadata": {
    "execution": {
     "iopub.execute_input": "2023-05-20T08:05:19.810533Z",
     "iopub.status.busy": "2023-05-20T08:05:19.810149Z",
     "iopub.status.idle": "2023-05-20T08:05:19.816532Z",
     "shell.execute_reply": "2023-05-20T08:05:19.815645Z"
    },
    "papermill": {
     "duration": 0.03746,
     "end_time": "2023-05-20T08:05:19.818231",
     "exception": false,
     "start_time": "2023-05-20T08:05:19.780771",
     "status": "completed"
    },
    "tags": []
   },
   "outputs": [],
   "source": [
    "x = df.drop('Calories', axis=1).values\n",
    "y = df['Calories'].values\n"
   ]
  },
  {
   "cell_type": "markdown",
   "id": "c29ee58c",
   "metadata": {
    "papermill": {
     "duration": 0.02797,
     "end_time": "2023-05-20T08:05:19.874245",
     "exception": false,
     "start_time": "2023-05-20T08:05:19.846275",
     "status": "completed"
    },
    "tags": []
   },
   "source": [
    "# Train & Test Splitting the Data"
   ]
  },
  {
   "cell_type": "code",
   "execution_count": 101,
   "id": "75f48f07",
   "metadata": {
    "execution": {
     "iopub.execute_input": "2023-05-20T08:05:19.932387Z",
     "iopub.status.busy": "2023-05-20T08:05:19.931684Z",
     "iopub.status.idle": "2023-05-20T08:05:19.938677Z",
     "shell.execute_reply": "2023-05-20T08:05:19.937636Z"
    },
    "papermill": {
     "duration": 0.038508,
     "end_time": "2023-05-20T08:05:19.940785",
     "exception": false,
     "start_time": "2023-05-20T08:05:19.902277",
     "status": "completed"
    },
    "tags": []
   },
   "outputs": [],
   "source": [
    "x_train, x_test, y_train, y_test = train_test_split(x, y, test_size = 0.2, random_state = 1)"
   ]
  },
  {
   "cell_type": "markdown",
   "id": "e2366385",
   "metadata": {
    "papermill": {
     "duration": 0.027817,
     "end_time": "2023-05-20T08:05:19.996775",
     "exception": false,
     "start_time": "2023-05-20T08:05:19.968958",
     "status": "completed"
    },
    "tags": []
   },
   "source": [
    "# Function to Measure Performance"
   ]
  },
  {
   "cell_type": "markdown",
   "id": "f82c75d7",
   "metadata": {
    "papermill": {
     "duration": 0.029197,
     "end_time": "2023-05-20T08:05:20.923581",
     "exception": false,
     "start_time": "2023-05-20T08:05:20.894384",
     "status": "completed"
    },
    "tags": []
   },
   "source": [
    "# Linear Regression"
   ]
  },
  {
   "cell_type": "code",
   "execution_count": 102,
   "id": "e1cba596",
   "metadata": {
    "execution": {
     "iopub.execute_input": "2023-05-20T08:05:20.982031Z",
     "iopub.status.busy": "2023-05-20T08:05:20.981706Z",
     "iopub.status.idle": "2023-05-20T08:05:21.015771Z",
     "shell.execute_reply": "2023-05-20T08:05:21.014868Z"
    },
    "papermill": {
     "duration": 0.066304,
     "end_time": "2023-05-20T08:05:21.018336",
     "exception": false,
     "start_time": "2023-05-20T08:05:20.952032",
     "status": "completed"
    },
    "tags": []
   },
   "outputs": [
    {
     "data": {
      "text/html": [
       "<style>#sk-container-id-11 {color: black;}#sk-container-id-11 pre{padding: 0;}#sk-container-id-11 div.sk-toggleable {background-color: white;}#sk-container-id-11 label.sk-toggleable__label {cursor: pointer;display: block;width: 100%;margin-bottom: 0;padding: 0.3em;box-sizing: border-box;text-align: center;}#sk-container-id-11 label.sk-toggleable__label-arrow:before {content: \"▸\";float: left;margin-right: 0.25em;color: #696969;}#sk-container-id-11 label.sk-toggleable__label-arrow:hover:before {color: black;}#sk-container-id-11 div.sk-estimator:hover label.sk-toggleable__label-arrow:before {color: black;}#sk-container-id-11 div.sk-toggleable__content {max-height: 0;max-width: 0;overflow: hidden;text-align: left;background-color: #f0f8ff;}#sk-container-id-11 div.sk-toggleable__content pre {margin: 0.2em;color: black;border-radius: 0.25em;background-color: #f0f8ff;}#sk-container-id-11 input.sk-toggleable__control:checked~div.sk-toggleable__content {max-height: 200px;max-width: 100%;overflow: auto;}#sk-container-id-11 input.sk-toggleable__control:checked~label.sk-toggleable__label-arrow:before {content: \"▾\";}#sk-container-id-11 div.sk-estimator input.sk-toggleable__control:checked~label.sk-toggleable__label {background-color: #d4ebff;}#sk-container-id-11 div.sk-label input.sk-toggleable__control:checked~label.sk-toggleable__label {background-color: #d4ebff;}#sk-container-id-11 input.sk-hidden--visually {border: 0;clip: rect(1px 1px 1px 1px);clip: rect(1px, 1px, 1px, 1px);height: 1px;margin: -1px;overflow: hidden;padding: 0;position: absolute;width: 1px;}#sk-container-id-11 div.sk-estimator {font-family: monospace;background-color: #f0f8ff;border: 1px dotted black;border-radius: 0.25em;box-sizing: border-box;margin-bottom: 0.5em;}#sk-container-id-11 div.sk-estimator:hover {background-color: #d4ebff;}#sk-container-id-11 div.sk-parallel-item::after {content: \"\";width: 100%;border-bottom: 1px solid gray;flex-grow: 1;}#sk-container-id-11 div.sk-label:hover label.sk-toggleable__label {background-color: #d4ebff;}#sk-container-id-11 div.sk-serial::before {content: \"\";position: absolute;border-left: 1px solid gray;box-sizing: border-box;top: 0;bottom: 0;left: 50%;z-index: 0;}#sk-container-id-11 div.sk-serial {display: flex;flex-direction: column;align-items: center;background-color: white;padding-right: 0.2em;padding-left: 0.2em;position: relative;}#sk-container-id-11 div.sk-item {position: relative;z-index: 1;}#sk-container-id-11 div.sk-parallel {display: flex;align-items: stretch;justify-content: center;background-color: white;position: relative;}#sk-container-id-11 div.sk-item::before, #sk-container-id-11 div.sk-parallel-item::before {content: \"\";position: absolute;border-left: 1px solid gray;box-sizing: border-box;top: 0;bottom: 0;left: 50%;z-index: -1;}#sk-container-id-11 div.sk-parallel-item {display: flex;flex-direction: column;z-index: 1;position: relative;background-color: white;}#sk-container-id-11 div.sk-parallel-item:first-child::after {align-self: flex-end;width: 50%;}#sk-container-id-11 div.sk-parallel-item:last-child::after {align-self: flex-start;width: 50%;}#sk-container-id-11 div.sk-parallel-item:only-child::after {width: 0;}#sk-container-id-11 div.sk-dashed-wrapped {border: 1px dashed gray;margin: 0 0.4em 0.5em 0.4em;box-sizing: border-box;padding-bottom: 0.4em;background-color: white;}#sk-container-id-11 div.sk-label label {font-family: monospace;font-weight: bold;display: inline-block;line-height: 1.2em;}#sk-container-id-11 div.sk-label-container {text-align: center;}#sk-container-id-11 div.sk-container {/* jupyter's `normalize.less` sets `[hidden] { display: none; }` but bootstrap.min.css set `[hidden] { display: none !important; }` so we also need the `!important` here to be able to override the default hidden behavior on the sphinx rendered scikit-learn.org. See: https://github.com/scikit-learn/scikit-learn/issues/21755 */display: inline-block !important;position: relative;}#sk-container-id-11 div.sk-text-repr-fallback {display: none;}</style><div id=\"sk-container-id-11\" class=\"sk-top-container\"><div class=\"sk-text-repr-fallback\"><pre>LinearRegression()</pre><b>In a Jupyter environment, please rerun this cell to show the HTML representation or trust the notebook. <br />On GitHub, the HTML representation is unable to render, please try loading this page with nbviewer.org.</b></div><div class=\"sk-container\" hidden><div class=\"sk-item\"><div class=\"sk-estimator sk-toggleable\"><input class=\"sk-toggleable__control sk-hidden--visually\" id=\"sk-estimator-id-11\" type=\"checkbox\" checked><label for=\"sk-estimator-id-11\" class=\"sk-toggleable__label sk-toggleable__label-arrow\">LinearRegression</label><div class=\"sk-toggleable__content\"><pre>LinearRegression()</pre></div></div></div></div></div>"
      ],
      "text/plain": [
       "LinearRegression()"
      ]
     },
     "execution_count": 102,
     "metadata": {},
     "output_type": "execute_result"
    }
   ],
   "source": [
    "model_lr = LinearRegression()\n",
    "model_lr.fit(x_train, y_train)"
   ]
  },
  {
   "cell_type": "code",
   "execution_count": 103,
   "id": "ff8a2d49",
   "metadata": {
    "execution": {
     "iopub.execute_input": "2023-05-20T08:05:21.104636Z",
     "iopub.status.busy": "2023-05-20T08:05:21.104076Z",
     "iopub.status.idle": "2023-05-20T08:05:21.109449Z",
     "shell.execute_reply": "2023-05-20T08:05:21.108430Z"
    },
    "papermill": {
     "duration": 0.051924,
     "end_time": "2023-05-20T08:05:21.112269",
     "exception": false,
     "start_time": "2023-05-20T08:05:21.060345",
     "status": "completed"
    },
    "tags": []
   },
   "outputs": [],
   "source": [
    "y_pred_lr = model_lr.predict(x_test)"
   ]
  },
  {
   "cell_type": "code",
   "execution_count": 113,
   "id": "7dfe73ec",
   "metadata": {
    "execution": {
     "iopub.execute_input": "2023-05-20T08:05:21.196695Z",
     "iopub.status.busy": "2023-05-20T08:05:21.196140Z",
     "iopub.status.idle": "2023-05-20T08:05:21.426533Z",
     "shell.execute_reply": "2023-05-20T08:05:21.424963Z"
    },
    "papermill": {
     "duration": 0.275804,
     "end_time": "2023-05-20T08:05:21.429139",
     "exception": false,
     "start_time": "2023-05-20T08:05:21.153335",
     "status": "completed"
    },
    "tags": []
   },
   "outputs": [
    {
     "name": "stdout",
     "output_type": "stream",
     "text": [
      "R^2: 0.9656047846568246\n",
      "MSE: 11.751414388583902\n"
     ]
    }
   ],
   "source": [
    "r_squared1 = model_lr.score(x_test, y_test)\n",
    "rmse1 = mean_squared_error(y_test, y_pred_lr, squared=False)\n",
    "print(\"R^2: {}\".format(r_squared1))\n",
    "print(\"MSE: {}\".format(rmse1))"
   ]
  },
  {
   "cell_type": "markdown",
   "id": "2c855c49",
   "metadata": {},
   "source": [
    "# KNN as Regressor"
   ]
  },
  {
   "cell_type": "code",
   "execution_count": 118,
   "id": "cc6d1eae",
   "metadata": {},
   "outputs": [],
   "source": [
    "error = []\n",
    "\n",
    "knn = KNeighborsRegressor(n_neighbors=3)\n",
    "knn.fit(x_train, y_train)\n",
    "y_pred_knn = knn.predict(x_test)"
   ]
  },
  {
   "cell_type": "code",
   "execution_count": 119,
   "id": "c4470544",
   "metadata": {},
   "outputs": [
    {
     "name": "stdout",
     "output_type": "stream",
     "text": [
      "R^2: -0.3276736384243395\n",
      "MSE: 5330.569148148148\n"
     ]
    }
   ],
   "source": [
    "r_squared2 = r2_score(y_test, y_pred_knn)\n",
    "mse2 = mean_squared_error(y_test, y_pred_knn)\n",
    "print(f'R^2: {r_squared2}')\n",
    "print(f'MSE: {mse2}')"
   ]
  },
  {
   "cell_type": "code",
   "execution_count": 120,
   "id": "86a47d7e",
   "metadata": {},
   "outputs": [
    {
     "data": {
      "text/html": [
       "<style>#sk-container-id-12 {color: black;}#sk-container-id-12 pre{padding: 0;}#sk-container-id-12 div.sk-toggleable {background-color: white;}#sk-container-id-12 label.sk-toggleable__label {cursor: pointer;display: block;width: 100%;margin-bottom: 0;padding: 0.3em;box-sizing: border-box;text-align: center;}#sk-container-id-12 label.sk-toggleable__label-arrow:before {content: \"▸\";float: left;margin-right: 0.25em;color: #696969;}#sk-container-id-12 label.sk-toggleable__label-arrow:hover:before {color: black;}#sk-container-id-12 div.sk-estimator:hover label.sk-toggleable__label-arrow:before {color: black;}#sk-container-id-12 div.sk-toggleable__content {max-height: 0;max-width: 0;overflow: hidden;text-align: left;background-color: #f0f8ff;}#sk-container-id-12 div.sk-toggleable__content pre {margin: 0.2em;color: black;border-radius: 0.25em;background-color: #f0f8ff;}#sk-container-id-12 input.sk-toggleable__control:checked~div.sk-toggleable__content {max-height: 200px;max-width: 100%;overflow: auto;}#sk-container-id-12 input.sk-toggleable__control:checked~label.sk-toggleable__label-arrow:before {content: \"▾\";}#sk-container-id-12 div.sk-estimator input.sk-toggleable__control:checked~label.sk-toggleable__label {background-color: #d4ebff;}#sk-container-id-12 div.sk-label input.sk-toggleable__control:checked~label.sk-toggleable__label {background-color: #d4ebff;}#sk-container-id-12 input.sk-hidden--visually {border: 0;clip: rect(1px 1px 1px 1px);clip: rect(1px, 1px, 1px, 1px);height: 1px;margin: -1px;overflow: hidden;padding: 0;position: absolute;width: 1px;}#sk-container-id-12 div.sk-estimator {font-family: monospace;background-color: #f0f8ff;border: 1px dotted black;border-radius: 0.25em;box-sizing: border-box;margin-bottom: 0.5em;}#sk-container-id-12 div.sk-estimator:hover {background-color: #d4ebff;}#sk-container-id-12 div.sk-parallel-item::after {content: \"\";width: 100%;border-bottom: 1px solid gray;flex-grow: 1;}#sk-container-id-12 div.sk-label:hover label.sk-toggleable__label {background-color: #d4ebff;}#sk-container-id-12 div.sk-serial::before {content: \"\";position: absolute;border-left: 1px solid gray;box-sizing: border-box;top: 0;bottom: 0;left: 50%;z-index: 0;}#sk-container-id-12 div.sk-serial {display: flex;flex-direction: column;align-items: center;background-color: white;padding-right: 0.2em;padding-left: 0.2em;position: relative;}#sk-container-id-12 div.sk-item {position: relative;z-index: 1;}#sk-container-id-12 div.sk-parallel {display: flex;align-items: stretch;justify-content: center;background-color: white;position: relative;}#sk-container-id-12 div.sk-item::before, #sk-container-id-12 div.sk-parallel-item::before {content: \"\";position: absolute;border-left: 1px solid gray;box-sizing: border-box;top: 0;bottom: 0;left: 50%;z-index: -1;}#sk-container-id-12 div.sk-parallel-item {display: flex;flex-direction: column;z-index: 1;position: relative;background-color: white;}#sk-container-id-12 div.sk-parallel-item:first-child::after {align-self: flex-end;width: 50%;}#sk-container-id-12 div.sk-parallel-item:last-child::after {align-self: flex-start;width: 50%;}#sk-container-id-12 div.sk-parallel-item:only-child::after {width: 0;}#sk-container-id-12 div.sk-dashed-wrapped {border: 1px dashed gray;margin: 0 0.4em 0.5em 0.4em;box-sizing: border-box;padding-bottom: 0.4em;background-color: white;}#sk-container-id-12 div.sk-label label {font-family: monospace;font-weight: bold;display: inline-block;line-height: 1.2em;}#sk-container-id-12 div.sk-label-container {text-align: center;}#sk-container-id-12 div.sk-container {/* jupyter's `normalize.less` sets `[hidden] { display: none; }` but bootstrap.min.css set `[hidden] { display: none !important; }` so we also need the `!important` here to be able to override the default hidden behavior on the sphinx rendered scikit-learn.org. See: https://github.com/scikit-learn/scikit-learn/issues/21755 */display: inline-block !important;position: relative;}#sk-container-id-12 div.sk-text-repr-fallback {display: none;}</style><div id=\"sk-container-id-12\" class=\"sk-top-container\"><div class=\"sk-text-repr-fallback\"><pre>KNeighborsClassifier()</pre><b>In a Jupyter environment, please rerun this cell to show the HTML representation or trust the notebook. <br />On GitHub, the HTML representation is unable to render, please try loading this page with nbviewer.org.</b></div><div class=\"sk-container\" hidden><div class=\"sk-item\"><div class=\"sk-estimator sk-toggleable\"><input class=\"sk-toggleable__control sk-hidden--visually\" id=\"sk-estimator-id-12\" type=\"checkbox\" checked><label for=\"sk-estimator-id-12\" class=\"sk-toggleable__label sk-toggleable__label-arrow\">KNeighborsClassifier</label><div class=\"sk-toggleable__content\"><pre>KNeighborsClassifier()</pre></div></div></div></div></div>"
      ],
      "text/plain": [
       "KNeighborsClassifier()"
      ]
     },
     "execution_count": 120,
     "metadata": {},
     "output_type": "execute_result"
    }
   ],
   "source": [
    "model_knn = KNeighborsClassifier(n_neighbors=5)\n",
    "model_knn.fit(x_train, y_train)"
   ]
  },
  {
   "cell_type": "code",
   "execution_count": 121,
   "id": "546d333f",
   "metadata": {},
   "outputs": [
    {
     "name": "stdout",
     "output_type": "stream",
     "text": [
      "0.006666666666666667\n"
     ]
    }
   ],
   "source": [
    "print(model_knn.score(x_test, y_test))"
   ]
  },
  {
   "cell_type": "markdown",
   "id": "8697218d",
   "metadata": {},
   "source": [
    "# Comparison"
   ]
  },
  {
   "cell_type": "code",
   "execution_count": 145,
   "id": "2afdad56",
   "metadata": {},
   "outputs": [
    {
     "data": {
      "image/png": "[encoded data removed]",
      "text/plain": [
       "<Figure size 640x480 with 1 Axes>"
      ]
     },
     "metadata": {},
     "output_type": "display_data"
    }
   ],
   "source": [
    "pred=[y_pred_lr,y_pred_knn]\n",
    "acc=[]\n",
    "classifiers=[\"Linear Regression\",\"KNN\"]\n",
    "for i in pred:\n",
    "    temp= mean_squared_error(y_test, i)\n",
    "    acc.append(temp)\n",
    "\n",
    "plt.barh(classifiers, acc)\n",
    "\n",
    "# Add labels and title\n",
    "plt.ylabel('classifiers')\n",
    "plt.xlabel('Mean Squared Error')\n",
    "plt.title('Comparison')\n",
    "plt.show()\n",
    "\n",
    "    "
   ]
  },
  {
   "cell_type": "code",
   "execution_count": 139,
   "id": "f2ba4747",
   "metadata": {},
   "outputs": [
    {
     "name": "stdout",
     "output_type": "stream",
     "text": [
      "Linear Regression Cross-validated MSE (K-Fold): [129.32837213 124.08436845 125.92918675 127.0931384  133.97734347]\n"
     ]
    }
   ],
   "source": [
    "linear_regressor = LinearRegression()\n",
    "linear_scores_kfold = cross_val_score(linear_regressor, x, y, scoring='neg_mean_squared_error', cv=5)\n",
    "linear_mse_scores_kfold = -linear_scores_kfold\n",
    "\n",
    "print(f'Linear Regression Cross-validated MSE (K-Fold): {linear_mse_scores_kfold}')\n",
    "# print(f'Linear Regression Mean MSE (K-Fold): {np.mean(linear_mse_scores_kfold)}')\n",
    "# print(f'Linear Regression Standard Deviation MSE (K-Fold): {np.std(linear_mse_scores_kfold)}')"
   ]
  },
  {
   "cell_type": "code",
   "execution_count": 140,
   "id": "3eb39daa",
   "metadata": {},
   "outputs": [
    {
     "name": "stdout",
     "output_type": "stream",
     "text": [
      "KNN Regression Cross-validated MSE (K-Fold): [5248.96114815 4977.65003704 5163.52255556 5313.05366667 5297.91088889]\n"
     ]
    }
   ],
   "source": [
    "# KNN Regression with K-fold cross-validation (K=5)\n",
    "knn_regressor = KNeighborsRegressor(n_neighbors=3)\n",
    "knn_scores_kfold = cross_val_score(knn_regressor, x, y, scoring='neg_mean_squared_error', cv=5)\n",
    "knn_mse_scores_kfold = -knn_scores_kfold\n",
    "\n",
    "print(f'KNN Regression Cross-validated MSE (K-Fold): {knn_mse_scores_kfold}')\n",
    "# print(f'KNN Regression Mean MSE (K-Fold): {np.mean(knn_mse_scores_kfold)}')\n",
    "# print(f'KNN Regression Standard Deviation MSE (K-Fold): {np.std(knn_mse_scores_kfold)}')"
   ]
  },
  {
   "cell_type": "code",
   "execution_count": 141,
   "id": "189a8c1a",
   "metadata": {},
   "outputs": [
    {
     "name": "stdout",
     "output_type": "stream",
     "text": [
      "Linear Regression MSE (Train/Test Split): 132.0675823406665\n"
     ]
    }
   ],
   "source": [
    "# Linear Regression with train/test split (80% training, 20% validation)\n",
    "x_train, x_val, y_train, y_val = train_test_split(x, y, test_size=0.2, random_state=42)\n",
    "linear_regressor.fit(x_train, y_train)\n",
    "y_pred_linear_val = linear_regressor.predict(x_val)\n",
    "mse_linear_val = mean_squared_error(y_val, y_pred_linear_val)\n",
    "\n",
    "print(f'Linear Regression MSE (Train/Test Split): {mse_linear_val}')"
   ]
  },
  {
   "cell_type": "code",
   "execution_count": 142,
   "id": "f6372511",
   "metadata": {},
   "outputs": [
    {
     "name": "stdout",
     "output_type": "stream",
     "text": [
      "KNN Regression MSE (Train/Test Split): 5516.787444444445\n"
     ]
    }
   ],
   "source": [
    "# KNN Regression with train/test split (80% training, 20% validation)\n",
    "x_train, x_val, y_train, y_val = train_test_split(x, y, test_size=0.2, random_state=42)\n",
    "knn_regressor.fit(x_train, y_train)\n",
    "y_pred_knn_val = knn_regressor.predict(x_val)\n",
    "mse_knn_val = mean_squared_error(y_val, y_pred_knn_val)\n",
    "\n",
    "print(f'KNN Regression MSE (Train/Test Split): {mse_knn_val}')"
   ]
  },
  {
   "cell_type": "code",
   "execution_count": 158,
   "id": "7d6d47a4",
   "metadata": {},
   "outputs": [
    {
     "name": "stderr",
     "output_type": "stream",
     "text": [
      "D:\\Programs\\Anaconda3\\Lib\\site-packages\\sklearn\\metrics\\_ranking.py:823: FutureWarning: elementwise comparison failed; returning scalar instead, but in the future will perform elementwise comparison\n",
      "  y_true = y_true == pos_label\n"
     ]
    },
    {
     "ename": "TypeError",
     "evalue": "'bool' object is not subscriptable",
     "output_type": "error",
     "traceback": [
      "\u001b[1;31m---------------------------------------------------------------------------\u001b[0m",
      "\u001b[1;31mTypeError\u001b[0m                                 Traceback (most recent call last)",
      "Cell \u001b[1;32mIn[158], line 7\u001b[0m\n\u001b[0;32m      4\u001b[0m y_pred \u001b[38;5;241m=\u001b[39m logreg\u001b[38;5;241m.\u001b[39mpredict(x_test)\n\u001b[0;32m      5\u001b[0m y_pred_probs \u001b[38;5;241m=\u001b[39m logreg\u001b[38;5;241m.\u001b[39mpredict_proba(x_test)[:, \u001b[38;5;241m8\u001b[39m]\n\u001b[1;32m----> 7\u001b[0m fpr, tpr, thresholds \u001b[38;5;241m=\u001b[39m roc_curve(y_test, y_pred_probs, pos_label\u001b[38;5;241m=\u001b[39m\u001b[38;5;124m'\u001b[39m\u001b[38;5;124mGender\u001b[39m\u001b[38;5;124m'\u001b[39m)\n\u001b[0;32m      9\u001b[0m plt\u001b[38;5;241m.\u001b[39mplot([\u001b[38;5;241m0\u001b[39m, \u001b[38;5;241m1\u001b[39m], [\u001b[38;5;241m0\u001b[39m, \u001b[38;5;241m1\u001b[39m], \u001b[38;5;124m'\u001b[39m\u001b[38;5;124mk--\u001b[39m\u001b[38;5;124m'\u001b[39m)\n\u001b[0;32m     11\u001b[0m \u001b[38;5;66;03m# Plot tpr against fpr\u001b[39;00m\n",
      "File \u001b[1;32mD:\\Programs\\Anaconda3\\Lib\\site-packages\\sklearn\\utils\\_param_validation.py:211\u001b[0m, in \u001b[0;36mvalidate_params.<locals>.decorator.<locals>.wrapper\u001b[1;34m(*args, **kwargs)\u001b[0m\n\u001b[0;32m    205\u001b[0m \u001b[38;5;28;01mtry\u001b[39;00m:\n\u001b[0;32m    206\u001b[0m     \u001b[38;5;28;01mwith\u001b[39;00m config_context(\n\u001b[0;32m    207\u001b[0m         skip_parameter_validation\u001b[38;5;241m=\u001b[39m(\n\u001b[0;32m    208\u001b[0m             prefer_skip_nested_validation \u001b[38;5;129;01mor\u001b[39;00m global_skip_validation\n\u001b[0;32m    209\u001b[0m         )\n\u001b[0;32m    210\u001b[0m     ):\n\u001b[1;32m--> 211\u001b[0m         \u001b[38;5;28;01mreturn\u001b[39;00m func(\u001b[38;5;241m*\u001b[39margs, \u001b[38;5;241m*\u001b[39m\u001b[38;5;241m*\u001b[39mkwargs)\n\u001b[0;32m    212\u001b[0m \u001b[38;5;28;01mexcept\u001b[39;00m InvalidParameterError \u001b[38;5;28;01mas\u001b[39;00m e:\n\u001b[0;32m    213\u001b[0m     \u001b[38;5;66;03m# When the function is just a wrapper around an estimator, we allow\u001b[39;00m\n\u001b[0;32m    214\u001b[0m     \u001b[38;5;66;03m# the function to delegate validation to the estimator, but we replace\u001b[39;00m\n\u001b[0;32m    215\u001b[0m     \u001b[38;5;66;03m# the name of the estimator by the name of the function in the error\u001b[39;00m\n\u001b[0;32m    216\u001b[0m     \u001b[38;5;66;03m# message to avoid confusion.\u001b[39;00m\n\u001b[0;32m    217\u001b[0m     msg \u001b[38;5;241m=\u001b[39m re\u001b[38;5;241m.\u001b[39msub(\n\u001b[0;32m    218\u001b[0m         \u001b[38;5;124mr\u001b[39m\u001b[38;5;124m\"\u001b[39m\u001b[38;5;124mparameter of \u001b[39m\u001b[38;5;124m\\\u001b[39m\u001b[38;5;124mw+ must be\u001b[39m\u001b[38;5;124m\"\u001b[39m,\n\u001b[0;32m    219\u001b[0m         \u001b[38;5;124mf\u001b[39m\u001b[38;5;124m\"\u001b[39m\u001b[38;5;124mparameter of \u001b[39m\u001b[38;5;132;01m{\u001b[39;00mfunc\u001b[38;5;241m.\u001b[39m\u001b[38;5;18m__qualname__\u001b[39m\u001b[38;5;132;01m}\u001b[39;00m\u001b[38;5;124m must be\u001b[39m\u001b[38;5;124m\"\u001b[39m,\n\u001b[0;32m    220\u001b[0m         \u001b[38;5;28mstr\u001b[39m(e),\n\u001b[0;32m    221\u001b[0m     )\n",
      "File \u001b[1;32mD:\\Programs\\Anaconda3\\Lib\\site-packages\\sklearn\\metrics\\_ranking.py:1094\u001b[0m, in \u001b[0;36mroc_curve\u001b[1;34m(y_true, y_score, pos_label, sample_weight, drop_intermediate)\u001b[0m\n\u001b[0;32m    992\u001b[0m \u001b[38;5;129m@validate_params\u001b[39m(\n\u001b[0;32m    993\u001b[0m     {\n\u001b[0;32m    994\u001b[0m         \u001b[38;5;124m\"\u001b[39m\u001b[38;5;124my_true\u001b[39m\u001b[38;5;124m\"\u001b[39m: [\u001b[38;5;124m\"\u001b[39m\u001b[38;5;124marray-like\u001b[39m\u001b[38;5;124m\"\u001b[39m],\n\u001b[1;32m   (...)\u001b[0m\n\u001b[0;32m   1003\u001b[0m     y_true, y_score, \u001b[38;5;241m*\u001b[39m, pos_label\u001b[38;5;241m=\u001b[39m\u001b[38;5;28;01mNone\u001b[39;00m, sample_weight\u001b[38;5;241m=\u001b[39m\u001b[38;5;28;01mNone\u001b[39;00m, drop_intermediate\u001b[38;5;241m=\u001b[39m\u001b[38;5;28;01mTrue\u001b[39;00m\n\u001b[0;32m   1004\u001b[0m ):\n\u001b[0;32m   1005\u001b[0m \u001b[38;5;250m    \u001b[39m\u001b[38;5;124;03m\"\"\"Compute Receiver operating characteristic (ROC).\u001b[39;00m\n\u001b[0;32m   1006\u001b[0m \n\u001b[0;32m   1007\u001b[0m \u001b[38;5;124;03m    Note: this implementation is restricted to the binary classification task.\u001b[39;00m\n\u001b[1;32m   (...)\u001b[0m\n\u001b[0;32m   1092\u001b[0m \u001b[38;5;124;03m    array([ inf, 0.8 , 0.4 , 0.35, 0.1 ])\u001b[39;00m\n\u001b[0;32m   1093\u001b[0m \u001b[38;5;124;03m    \"\"\"\u001b[39;00m\n\u001b[1;32m-> 1094\u001b[0m     fps, tps, thresholds \u001b[38;5;241m=\u001b[39m _binary_clf_curve(\n\u001b[0;32m   1095\u001b[0m         y_true, y_score, pos_label\u001b[38;5;241m=\u001b[39mpos_label, sample_weight\u001b[38;5;241m=\u001b[39msample_weight\n\u001b[0;32m   1096\u001b[0m     )\n\u001b[0;32m   1098\u001b[0m     \u001b[38;5;66;03m# Attempt to drop thresholds corresponding to points in between and\u001b[39;00m\n\u001b[0;32m   1099\u001b[0m     \u001b[38;5;66;03m# collinear with other points. These are always suboptimal and do not\u001b[39;00m\n\u001b[0;32m   1100\u001b[0m     \u001b[38;5;66;03m# appear on a plotted ROC curve (and thus do not affect the AUC).\u001b[39;00m\n\u001b[1;32m   (...)\u001b[0m\n\u001b[0;32m   1105\u001b[0m     \u001b[38;5;66;03m# but does not drop more complicated cases like fps = [1, 3, 7],\u001b[39;00m\n\u001b[0;32m   1106\u001b[0m     \u001b[38;5;66;03m# tps = [1, 2, 4]; there is no harm in keeping too many thresholds.\u001b[39;00m\n\u001b[0;32m   1107\u001b[0m     \u001b[38;5;28;01mif\u001b[39;00m drop_intermediate \u001b[38;5;129;01mand\u001b[39;00m \u001b[38;5;28mlen\u001b[39m(fps) \u001b[38;5;241m>\u001b[39m \u001b[38;5;241m2\u001b[39m:\n",
      "File \u001b[1;32mD:\\Programs\\Anaconda3\\Lib\\site-packages\\sklearn\\metrics\\_ranking.py:828\u001b[0m, in \u001b[0;36m_binary_clf_curve\u001b[1;34m(y_true, y_score, pos_label, sample_weight)\u001b[0m\n\u001b[0;32m    826\u001b[0m desc_score_indices \u001b[38;5;241m=\u001b[39m np\u001b[38;5;241m.\u001b[39margsort(y_score, kind\u001b[38;5;241m=\u001b[39m\u001b[38;5;124m\"\u001b[39m\u001b[38;5;124mmergesort\u001b[39m\u001b[38;5;124m\"\u001b[39m)[::\u001b[38;5;241m-\u001b[39m\u001b[38;5;241m1\u001b[39m]\n\u001b[0;32m    827\u001b[0m y_score \u001b[38;5;241m=\u001b[39m y_score[desc_score_indices]\n\u001b[1;32m--> 828\u001b[0m y_true \u001b[38;5;241m=\u001b[39m y_true[desc_score_indices]\n\u001b[0;32m    829\u001b[0m \u001b[38;5;28;01mif\u001b[39;00m sample_weight \u001b[38;5;129;01mis\u001b[39;00m \u001b[38;5;129;01mnot\u001b[39;00m \u001b[38;5;28;01mNone\u001b[39;00m:\n\u001b[0;32m    830\u001b[0m     weight \u001b[38;5;241m=\u001b[39m sample_weight[desc_score_indices]\n",
      "\u001b[1;31mTypeError\u001b[0m: 'bool' object is not subscriptable"
     ]
    }
   ],
   "source": [
    "logreg = LogisticRegression()\n",
    "x_train, x_test, y_train, y_test = train_test_split(x, y, test_size=0.3,random_state=42)\n",
    "logreg.fit(x_train, y_train)\n",
    "y_pred = logreg.predict(x_test)\n",
    "y_pred_probs = logreg.predict_proba(x_test)[:, 8]\n",
    "\n",
    "fpr, tpr, thresholds = roc_curve(y_test, y_pred_probs, pos_label='Gender')\n",
    "\n",
    "plt.plot([0, 1], [0, 1], 'k--')\n",
    "\n",
    "# Plot tpr against fpr\n",
    "plt.plot(fpr, tpr)\n",
    "plt.xlabel('False Positive Rate')\n",
    "plt.ylabel('True Positive Rate')\n",
    "plt.title('ROC Curve for Diabetes Prediction')\n",
    "plt.show()"
   ]
  },
  {
   "cell_type": "code",
   "execution_count": null,
   "id": "53197143",
   "metadata": {},
   "outputs": [],
   "source": []
  }
 ],
 "metadata": {
  "kernelspec": {
   "display_name": "Python 3 (ipykernel)",
   "language": "python",
   "name": "python3"
  },
  "language_info": {
   "codemirror_mode": {
    "name": "ipython",
    "version": 3
   },
   "file_extension": ".py",
   "mimetype": "text/x-python",
   "name": "python",
   "nbconvert_exporter": "python",
   "pygments_lexer": "ipython3",
   "version": "3.11.5"
  },
  "papermill": {
   "default_parameters": {},
   "duration": 219.743276,
   "end_time": "2023-05-20T08:08:23.962259",
   "environment_variables": {},
   "exception": null,
   "input_path": "__notebook__.ipynb",
   "output_path": "__notebook__.ipynb",
   "parameters": {},
   "start_time": "2023-05-20T08:04:44.218983",
   "version": "2.4.0"
  }
 },
 "nbformat": 4,
 "nbformat_minor": 5
}
