{
 "cells": [
  {
   "cell_type": "markdown",
   "id": "e11e20c3",
   "metadata": {
    "papermill": {
     "duration": 0.017192,
     "end_time": "2023-05-20T08:04:53.476874",
     "exception": false,
     "start_time": "2023-05-20T08:04:53.459682",
     "status": "completed"
    },
    "tags": []
   },
   "source": [
    "# Import Libraries"
   ]
  },
  {
   "cell_type": "code",
   "execution_count": 1,
   "id": "68c8d6db",
   "metadata": {
    "_cell_guid": "b1076dfc-b9ad-4769-8c92-a6c4dae69d19",
    "_uuid": "8f2839f25d086af736a60e9eeb907d3b93b6e0e5",
    "execution": {
     "iopub.execute_input": "2023-05-20T08:05:05.485632Z",
     "iopub.status.busy": "2023-05-20T08:05:05.485156Z",
     "iopub.status.idle": "2023-05-20T08:05:07.688250Z",
     "shell.execute_reply": "2023-05-20T08:05:07.687335Z"
    },
    "papermill": {
     "duration": 2.218609,
     "end_time": "2023-05-20T08:05:07.690099",
     "exception": false,
     "start_time": "2023-05-20T08:05:05.471490",
     "status": "completed"
    },
    "tags": []
   },
   "outputs": [],
   "source": [
    "import numpy as np\n",
    "import pandas as pd\n",
    "import matplotlib.pyplot as plt\n",
    "from sklearn.preprocessing import LabelEncoder, StandardScaler\n",
    "from sklearn.model_selection import train_test_split\n",
    "from sklearn.linear_model import LinearRegression\n",
    "from sklearn.metrics import mean_squared_error, r2_score, mean_absolute_error\n",
    "from sklearn.neighbors import KNeighborsRegressor\n",
    "from sklearn import neighbors"
   ]
  },
  {
   "cell_type": "markdown",
   "id": "9a597793",
   "metadata": {
    "papermill": {
     "duration": 0.013165,
     "end_time": "2023-05-20T08:05:07.715822",
     "exception": false,
     "start_time": "2023-05-20T08:05:07.702657",
     "status": "completed"
    },
    "tags": []
   },
   "source": [
    "# Load Data"
   ]
  },
  {
   "cell_type": "code",
   "execution_count": 2,
   "id": "c3d8e60c",
   "metadata": {
    "execution": {
     "iopub.execute_input": "2023-05-20T08:05:07.744340Z",
     "iopub.status.busy": "2023-05-20T08:05:07.743190Z",
     "iopub.status.idle": "2023-05-20T08:05:07.832883Z",
     "shell.execute_reply": "2023-05-20T08:05:07.831617Z"
    },
    "papermill": {
     "duration": 0.106488,
     "end_time": "2023-05-20T08:05:07.835088",
     "exception": false,
     "start_time": "2023-05-20T08:05:07.728600",
     "status": "completed"
    },
    "tags": []
   },
   "outputs": [
    {
     "data": {
      "text/html": [
       "<div>\n",
       "<style scoped>\n",
       "    .dataframe tbody tr th:only-of-type {\n",
       "        vertical-align: middle;\n",
       "    }\n",
       "\n",
       "    .dataframe tbody tr th {\n",
       "        vertical-align: top;\n",
       "    }\n",
       "\n",
       "    .dataframe thead th {\n",
       "        text-align: right;\n",
       "    }\n",
       "</style>\n",
       "<table border=\"1\" class=\"dataframe\">\n",
       "  <thead>\n",
       "    <tr style=\"text-align: right;\">\n",
       "      <th></th>\n",
       "      <th>User_ID</th>\n",
       "      <th>Gender</th>\n",
       "      <th>Age</th>\n",
       "      <th>Height</th>\n",
       "      <th>Weight</th>\n",
       "      <th>Duration</th>\n",
       "      <th>Heart_Rate</th>\n",
       "      <th>Body_Temp</th>\n",
       "      <th>Calories</th>\n",
       "    </tr>\n",
       "  </thead>\n",
       "  <tbody>\n",
       "    <tr>\n",
       "      <th>0</th>\n",
       "      <td>14733363</td>\n",
       "      <td>male</td>\n",
       "      <td>68</td>\n",
       "      <td>190.0</td>\n",
       "      <td>94.0</td>\n",
       "      <td>29.0</td>\n",
       "      <td>105.0</td>\n",
       "      <td>40.8</td>\n",
       "      <td>231.0</td>\n",
       "    </tr>\n",
       "    <tr>\n",
       "      <th>1</th>\n",
       "      <td>14861698</td>\n",
       "      <td>female</td>\n",
       "      <td>20</td>\n",
       "      <td>166.0</td>\n",
       "      <td>60.0</td>\n",
       "      <td>14.0</td>\n",
       "      <td>94.0</td>\n",
       "      <td>40.3</td>\n",
       "      <td>66.0</td>\n",
       "    </tr>\n",
       "    <tr>\n",
       "      <th>2</th>\n",
       "      <td>11179863</td>\n",
       "      <td>male</td>\n",
       "      <td>69</td>\n",
       "      <td>179.0</td>\n",
       "      <td>79.0</td>\n",
       "      <td>5.0</td>\n",
       "      <td>88.0</td>\n",
       "      <td>38.7</td>\n",
       "      <td>26.0</td>\n",
       "    </tr>\n",
       "    <tr>\n",
       "      <th>3</th>\n",
       "      <td>16180408</td>\n",
       "      <td>female</td>\n",
       "      <td>34</td>\n",
       "      <td>179.0</td>\n",
       "      <td>71.0</td>\n",
       "      <td>13.0</td>\n",
       "      <td>100.0</td>\n",
       "      <td>40.5</td>\n",
       "      <td>71.0</td>\n",
       "    </tr>\n",
       "    <tr>\n",
       "      <th>4</th>\n",
       "      <td>17771927</td>\n",
       "      <td>female</td>\n",
       "      <td>27</td>\n",
       "      <td>154.0</td>\n",
       "      <td>58.0</td>\n",
       "      <td>10.0</td>\n",
       "      <td>81.0</td>\n",
       "      <td>39.8</td>\n",
       "      <td>35.0</td>\n",
       "    </tr>\n",
       "    <tr>\n",
       "      <th>...</th>\n",
       "      <td>...</td>\n",
       "      <td>...</td>\n",
       "      <td>...</td>\n",
       "      <td>...</td>\n",
       "      <td>...</td>\n",
       "      <td>...</td>\n",
       "      <td>...</td>\n",
       "      <td>...</td>\n",
       "      <td>...</td>\n",
       "    </tr>\n",
       "    <tr>\n",
       "      <th>14995</th>\n",
       "      <td>15644082</td>\n",
       "      <td>female</td>\n",
       "      <td>20</td>\n",
       "      <td>193.0</td>\n",
       "      <td>86.0</td>\n",
       "      <td>11.0</td>\n",
       "      <td>92.0</td>\n",
       "      <td>40.4</td>\n",
       "      <td>45.0</td>\n",
       "    </tr>\n",
       "    <tr>\n",
       "      <th>14996</th>\n",
       "      <td>17212577</td>\n",
       "      <td>female</td>\n",
       "      <td>27</td>\n",
       "      <td>165.0</td>\n",
       "      <td>65.0</td>\n",
       "      <td>6.0</td>\n",
       "      <td>85.0</td>\n",
       "      <td>39.2</td>\n",
       "      <td>23.0</td>\n",
       "    </tr>\n",
       "    <tr>\n",
       "      <th>14997</th>\n",
       "      <td>17271188</td>\n",
       "      <td>female</td>\n",
       "      <td>43</td>\n",
       "      <td>159.0</td>\n",
       "      <td>58.0</td>\n",
       "      <td>16.0</td>\n",
       "      <td>90.0</td>\n",
       "      <td>40.1</td>\n",
       "      <td>75.0</td>\n",
       "    </tr>\n",
       "    <tr>\n",
       "      <th>14998</th>\n",
       "      <td>18643037</td>\n",
       "      <td>male</td>\n",
       "      <td>78</td>\n",
       "      <td>193.0</td>\n",
       "      <td>97.0</td>\n",
       "      <td>2.0</td>\n",
       "      <td>84.0</td>\n",
       "      <td>38.3</td>\n",
       "      <td>11.0</td>\n",
       "    </tr>\n",
       "    <tr>\n",
       "      <th>14999</th>\n",
       "      <td>11751526</td>\n",
       "      <td>male</td>\n",
       "      <td>63</td>\n",
       "      <td>173.0</td>\n",
       "      <td>79.0</td>\n",
       "      <td>18.0</td>\n",
       "      <td>92.0</td>\n",
       "      <td>40.5</td>\n",
       "      <td>98.0</td>\n",
       "    </tr>\n",
       "  </tbody>\n",
       "</table>\n",
       "<p>15000 rows × 9 columns</p>\n",
       "</div>"
      ],
      "text/plain": [
       "        User_ID  Gender  Age  Height  Weight  Duration  Heart_Rate  Body_Temp  \\\n",
       "0      14733363    male   68   190.0    94.0      29.0       105.0       40.8   \n",
       "1      14861698  female   20   166.0    60.0      14.0        94.0       40.3   \n",
       "2      11179863    male   69   179.0    79.0       5.0        88.0       38.7   \n",
       "3      16180408  female   34   179.0    71.0      13.0       100.0       40.5   \n",
       "4      17771927  female   27   154.0    58.0      10.0        81.0       39.8   \n",
       "...         ...     ...  ...     ...     ...       ...         ...        ...   \n",
       "14995  15644082  female   20   193.0    86.0      11.0        92.0       40.4   \n",
       "14996  17212577  female   27   165.0    65.0       6.0        85.0       39.2   \n",
       "14997  17271188  female   43   159.0    58.0      16.0        90.0       40.1   \n",
       "14998  18643037    male   78   193.0    97.0       2.0        84.0       38.3   \n",
       "14999  11751526    male   63   173.0    79.0      18.0        92.0       40.5   \n",
       "\n",
       "       Calories  \n",
       "0         231.0  \n",
       "1          66.0  \n",
       "2          26.0  \n",
       "3          71.0  \n",
       "4          35.0  \n",
       "...         ...  \n",
       "14995      45.0  \n",
       "14996      23.0  \n",
       "14997      75.0  \n",
       "14998      11.0  \n",
       "14999      98.0  \n",
       "\n",
       "[15000 rows x 9 columns]"
      ]
     },
     "execution_count": 2,
     "metadata": {},
     "output_type": "execute_result"
    }
   ],
   "source": [
    "calories = pd.read_csv(\"calories.csv\",sep=\",\")\n",
    "exercise  = pd.read_csv(\"exercise.csv\",sep=\",\")\n",
    "\n",
    "df = pd.concat([exercise,calories['Calories']], axis=1)\n",
    "df"
   ]
  },
  {
   "cell_type": "markdown",
   "id": "e0f84852",
   "metadata": {
    "papermill": {
     "duration": 0.012708,
     "end_time": "2023-05-20T08:05:07.860882",
     "exception": false,
     "start_time": "2023-05-20T08:05:07.848174",
     "status": "completed"
    },
    "tags": []
   },
   "source": [
    "# Data Cleaning, Information & Visualization"
   ]
  },
  {
   "cell_type": "code",
   "execution_count": 3,
   "id": "b598afe4",
   "metadata": {
    "execution": {
     "iopub.execute_input": "2023-05-20T08:05:07.890237Z",
     "iopub.status.busy": "2023-05-20T08:05:07.889326Z",
     "iopub.status.idle": "2023-05-20T08:05:07.914074Z",
     "shell.execute_reply": "2023-05-20T08:05:07.913023Z"
    },
    "papermill": {
     "duration": 0.042855,
     "end_time": "2023-05-20T08:05:07.916693",
     "exception": false,
     "start_time": "2023-05-20T08:05:07.873838",
     "status": "completed"
    },
    "tags": []
   },
   "outputs": [
    {
     "name": "stdout",
     "output_type": "stream",
     "text": [
      "<class 'pandas.core.frame.DataFrame'>\n",
      "RangeIndex: 15000 entries, 0 to 14999\n",
      "Data columns (total 9 columns):\n",
      " #   Column      Non-Null Count  Dtype  \n",
      "---  ------      --------------  -----  \n",
      " 0   User_ID     15000 non-null  int64  \n",
      " 1   Gender      15000 non-null  object \n",
      " 2   Age         15000 non-null  int64  \n",
      " 3   Height      15000 non-null  float64\n",
      " 4   Weight      15000 non-null  float64\n",
      " 5   Duration    15000 non-null  float64\n",
      " 6   Heart_Rate  15000 non-null  float64\n",
      " 7   Body_Temp   15000 non-null  float64\n",
      " 8   Calories    15000 non-null  float64\n",
      "dtypes: float64(6), int64(2), object(1)\n",
      "memory usage: 1.0+ MB\n"
     ]
    }
   ],
   "source": [
    "df.info()"
   ]
  },
  {
   "cell_type": "code",
   "execution_count": 4,
   "id": "df7cb245",
   "metadata": {
    "execution": {
     "iopub.execute_input": "2023-05-20T08:05:07.946754Z",
     "iopub.status.busy": "2023-05-20T08:05:07.946392Z",
     "iopub.status.idle": "2023-05-20T08:05:07.954860Z",
     "shell.execute_reply": "2023-05-20T08:05:07.954058Z"
    },
    "papermill": {
     "duration": 0.026448,
     "end_time": "2023-05-20T08:05:07.956560",
     "exception": false,
     "start_time": "2023-05-20T08:05:07.930112",
     "status": "completed"
    },
    "tags": []
   },
   "outputs": [
    {
     "data": {
      "text/plain": [
       "User_ID       0\n",
       "Gender        0\n",
       "Age           0\n",
       "Height        0\n",
       "Weight        0\n",
       "Duration      0\n",
       "Heart_Rate    0\n",
       "Body_Temp     0\n",
       "Calories      0\n",
       "dtype: int64"
      ]
     },
     "execution_count": 4,
     "metadata": {},
     "output_type": "execute_result"
    }
   ],
   "source": [
    "df.isnull().sum()"
   ]
  },
  {
   "cell_type": "code",
   "execution_count": 5,
   "id": "f59a0dc8",
   "metadata": {
    "execution": {
     "iopub.execute_input": "2023-05-20T08:05:07.984948Z",
     "iopub.status.busy": "2023-05-20T08:05:07.984349Z",
     "iopub.status.idle": "2023-05-20T08:05:07.989033Z",
     "shell.execute_reply": "2023-05-20T08:05:07.988423Z"
    },
    "papermill": {
     "duration": 0.020549,
     "end_time": "2023-05-20T08:05:07.990463",
     "exception": false,
     "start_time": "2023-05-20T08:05:07.969914",
     "status": "completed"
    },
    "tags": []
   },
   "outputs": [
    {
     "data": {
      "text/plain": [
       "(15000, 9)"
      ]
     },
     "execution_count": 5,
     "metadata": {},
     "output_type": "execute_result"
    }
   ],
   "source": [
    "df.shape"
   ]
  },
  {
   "cell_type": "code",
   "execution_count": 6,
   "id": "fe522ce0",
   "metadata": {
    "execution": {
     "iopub.execute_input": "2023-05-20T08:05:08.018921Z",
     "iopub.status.busy": "2023-05-20T08:05:08.018346Z",
     "iopub.status.idle": "2023-05-20T08:05:08.023867Z",
     "shell.execute_reply": "2023-05-20T08:05:08.022719Z"
    },
    "papermill": {
     "duration": 0.022126,
     "end_time": "2023-05-20T08:05:08.025670",
     "exception": false,
     "start_time": "2023-05-20T08:05:08.003544",
     "status": "completed"
    },
    "tags": []
   },
   "outputs": [
    {
     "data": {
      "text/plain": [
       "135000"
      ]
     },
     "execution_count": 6,
     "metadata": {},
     "output_type": "execute_result"
    }
   ],
   "source": [
    "df.size"
   ]
  },
  {
   "cell_type": "code",
   "execution_count": 7,
   "id": "8f60df4e",
   "metadata": {
    "execution": {
     "iopub.execute_input": "2023-05-20T08:05:10.067017Z",
     "iopub.status.busy": "2023-05-20T08:05:10.066694Z",
     "iopub.status.idle": "2023-05-20T08:05:10.073524Z",
     "shell.execute_reply": "2023-05-20T08:05:10.072744Z"
    },
    "papermill": {
     "duration": 0.025335,
     "end_time": "2023-05-20T08:05:10.075142",
     "exception": false,
     "start_time": "2023-05-20T08:05:10.049807",
     "status": "completed"
    },
    "tags": []
   },
   "outputs": [
    {
     "data": {
      "text/plain": [
       "Gender\n",
       "female    7553\n",
       "male      7447\n",
       "Name: count, dtype: int64"
      ]
     },
     "execution_count": 7,
     "metadata": {},
     "output_type": "execute_result"
    }
   ],
   "source": [
    "df['Gender'].value_counts()"
   ]
  },
  {
   "cell_type": "code",
   "execution_count": 8,
   "id": "2b12c590",
   "metadata": {
    "execution": {
     "iopub.execute_input": "2023-05-20T08:05:10.108396Z",
     "iopub.status.busy": "2023-05-20T08:05:10.107826Z",
     "iopub.status.idle": "2023-05-20T08:05:10.114002Z",
     "shell.execute_reply": "2023-05-20T08:05:10.112987Z"
    },
    "papermill": {
     "duration": 0.02538,
     "end_time": "2023-05-20T08:05:10.116040",
     "exception": false,
     "start_time": "2023-05-20T08:05:10.090660",
     "status": "completed"
    },
    "tags": []
   },
   "outputs": [],
   "source": [
    "df['Gender'] = LabelEncoder().fit_transform(df['Gender'])"
   ]
  },
  {
   "cell_type": "code",
   "execution_count": 9,
   "id": "217c3a78",
   "metadata": {
    "execution": {
     "iopub.execute_input": "2023-05-20T08:05:10.152045Z",
     "iopub.status.busy": "2023-05-20T08:05:10.151477Z",
     "iopub.status.idle": "2023-05-20T08:05:10.158749Z",
     "shell.execute_reply": "2023-05-20T08:05:10.157954Z"
    },
    "papermill": {
     "duration": 0.027613,
     "end_time": "2023-05-20T08:05:10.160547",
     "exception": false,
     "start_time": "2023-05-20T08:05:10.132934",
     "status": "completed"
    },
    "tags": []
   },
   "outputs": [
    {
     "data": {
      "text/plain": [
       "Gender\n",
       "0    7553\n",
       "1    7447\n",
       "Name: count, dtype: int64"
      ]
     },
     "execution_count": 9,
     "metadata": {},
     "output_type": "execute_result"
    }
   ],
   "source": [
    "df['Gender'].value_counts()"
   ]
  },
  {
   "cell_type": "code",
   "execution_count": 30,
   "id": "2c7395d8",
   "metadata": {
    "execution": {
     "iopub.execute_input": "2023-05-20T08:05:08.055074Z",
     "iopub.status.busy": "2023-05-20T08:05:08.054443Z",
     "iopub.status.idle": "2023-05-20T08:05:08.140602Z",
     "shell.execute_reply": "2023-05-20T08:05:08.139255Z"
    },
    "papermill": {
     "duration": 0.103382,
     "end_time": "2023-05-20T08:05:08.142940",
     "exception": false,
     "start_time": "2023-05-20T08:05:08.039558",
     "status": "completed"
    },
    "tags": []
   },
   "outputs": [
    {
     "data": {
      "text/html": [
       "<div>\n",
       "<style scoped>\n",
       "    .dataframe tbody tr th:only-of-type {\n",
       "        vertical-align: middle;\n",
       "    }\n",
       "\n",
       "    .dataframe tbody tr th {\n",
       "        vertical-align: top;\n",
       "    }\n",
       "\n",
       "    .dataframe thead th {\n",
       "        text-align: right;\n",
       "    }\n",
       "</style>\n",
       "<table border=\"1\" class=\"dataframe\">\n",
       "  <thead>\n",
       "    <tr style=\"text-align: right;\">\n",
       "      <th></th>\n",
       "      <th>count</th>\n",
       "      <th>mean</th>\n",
       "      <th>std</th>\n",
       "      <th>min</th>\n",
       "      <th>25%</th>\n",
       "      <th>50%</th>\n",
       "      <th>75%</th>\n",
       "      <th>max</th>\n",
       "    </tr>\n",
       "  </thead>\n",
       "  <tbody>\n",
       "    <tr>\n",
       "      <th>Age</th>\n",
       "      <td>15000.0</td>\n",
       "      <td>42.789800</td>\n",
       "      <td>16.980264</td>\n",
       "      <td>20.0</td>\n",
       "      <td>28.0</td>\n",
       "      <td>39.0</td>\n",
       "      <td>56.0</td>\n",
       "      <td>79.0</td>\n",
       "    </tr>\n",
       "    <tr>\n",
       "      <th>Height</th>\n",
       "      <td>15000.0</td>\n",
       "      <td>174.465133</td>\n",
       "      <td>14.258114</td>\n",
       "      <td>123.0</td>\n",
       "      <td>164.0</td>\n",
       "      <td>175.0</td>\n",
       "      <td>185.0</td>\n",
       "      <td>222.0</td>\n",
       "    </tr>\n",
       "    <tr>\n",
       "      <th>Weight</th>\n",
       "      <td>15000.0</td>\n",
       "      <td>74.966867</td>\n",
       "      <td>15.035657</td>\n",
       "      <td>36.0</td>\n",
       "      <td>63.0</td>\n",
       "      <td>74.0</td>\n",
       "      <td>87.0</td>\n",
       "      <td>132.0</td>\n",
       "    </tr>\n",
       "    <tr>\n",
       "      <th>Duration</th>\n",
       "      <td>15000.0</td>\n",
       "      <td>15.530600</td>\n",
       "      <td>8.319203</td>\n",
       "      <td>1.0</td>\n",
       "      <td>8.0</td>\n",
       "      <td>16.0</td>\n",
       "      <td>23.0</td>\n",
       "      <td>30.0</td>\n",
       "    </tr>\n",
       "    <tr>\n",
       "      <th>Body_Temp</th>\n",
       "      <td>15000.0</td>\n",
       "      <td>40.025453</td>\n",
       "      <td>0.779230</td>\n",
       "      <td>37.1</td>\n",
       "      <td>39.6</td>\n",
       "      <td>40.2</td>\n",
       "      <td>40.6</td>\n",
       "      <td>41.5</td>\n",
       "    </tr>\n",
       "    <tr>\n",
       "      <th>Calories</th>\n",
       "      <td>15000.0</td>\n",
       "      <td>89.539533</td>\n",
       "      <td>62.456978</td>\n",
       "      <td>1.0</td>\n",
       "      <td>35.0</td>\n",
       "      <td>79.0</td>\n",
       "      <td>138.0</td>\n",
       "      <td>314.0</td>\n",
       "    </tr>\n",
       "  </tbody>\n",
       "</table>\n",
       "</div>"
      ],
      "text/plain": [
       "             count        mean        std    min    25%    50%    75%    max\n",
       "Age        15000.0   42.789800  16.980264   20.0   28.0   39.0   56.0   79.0\n",
       "Height     15000.0  174.465133  14.258114  123.0  164.0  175.0  185.0  222.0\n",
       "Weight     15000.0   74.966867  15.035657   36.0   63.0   74.0   87.0  132.0\n",
       "Duration   15000.0   15.530600   8.319203    1.0    8.0   16.0   23.0   30.0\n",
       "Body_Temp  15000.0   40.025453   0.779230   37.1   39.6   40.2   40.6   41.5\n",
       "Calories   15000.0   89.539533  62.456978    1.0   35.0   79.0  138.0  314.0"
      ]
     },
     "execution_count": 30,
     "metadata": {},
     "output_type": "execute_result"
    }
   ],
   "source": [
    "df[['Age','Height','Weight','Duration','Body_Temp','Calories']].describe().T"
   ]
  },
  {
   "cell_type": "markdown",
   "id": "9d70fa86",
   "metadata": {
    "papermill": {
     "duration": 0.029552,
     "end_time": "2023-05-20T08:05:19.681797",
     "exception": false,
     "start_time": "2023-05-20T08:05:19.652245",
     "status": "completed"
    },
    "tags": []
   },
   "source": [
    "# Features & Target "
   ]
  },
  {
   "cell_type": "code",
   "execution_count": 31,
   "id": "de8bf136",
   "metadata": {
    "execution": {
     "iopub.execute_input": "2023-05-20T08:05:19.810533Z",
     "iopub.status.busy": "2023-05-20T08:05:19.810149Z",
     "iopub.status.idle": "2023-05-20T08:05:19.816532Z",
     "shell.execute_reply": "2023-05-20T08:05:19.815645Z"
    },
    "papermill": {
     "duration": 0.03746,
     "end_time": "2023-05-20T08:05:19.818231",
     "exception": false,
     "start_time": "2023-05-20T08:05:19.780771",
     "status": "completed"
    },
    "tags": []
   },
   "outputs": [],
   "source": [
    "x = df.drop(['Calories','User_ID'], axis=1).values\n",
    "y = df['Calories'].values.reshape(-1,1)"
   ]
  },
  {
   "cell_type": "markdown",
   "id": "c29ee58c",
   "metadata": {
    "papermill": {
     "duration": 0.02797,
     "end_time": "2023-05-20T08:05:19.874245",
     "exception": false,
     "start_time": "2023-05-20T08:05:19.846275",
     "status": "completed"
    },
    "tags": []
   },
   "source": [
    "# Train & Test Splitting the Data"
   ]
  },
  {
   "cell_type": "code",
   "execution_count": 32,
   "id": "75f48f07",
   "metadata": {
    "execution": {
     "iopub.execute_input": "2023-05-20T08:05:19.932387Z",
     "iopub.status.busy": "2023-05-20T08:05:19.931684Z",
     "iopub.status.idle": "2023-05-20T08:05:19.938677Z",
     "shell.execute_reply": "2023-05-20T08:05:19.937636Z"
    },
    "papermill": {
     "duration": 0.038508,
     "end_time": "2023-05-20T08:05:19.940785",
     "exception": false,
     "start_time": "2023-05-20T08:05:19.902277",
     "status": "completed"
    },
    "tags": []
   },
   "outputs": [],
   "source": [
    "x_train, x_test, y_train, y_test = train_test_split(x, y, test_size = 0.2, random_state = 42)"
   ]
  },
  {
   "cell_type": "markdown",
   "id": "2c855c49",
   "metadata": {},
   "source": [
    "# Linear Regression "
   ]
  },
  {
   "cell_type": "code",
   "execution_count": 33,
   "id": "e1cba596",
   "metadata": {
    "execution": {
     "iopub.execute_input": "2023-05-20T08:05:20.982031Z",
     "iopub.status.busy": "2023-05-20T08:05:20.981706Z",
     "iopub.status.idle": "2023-05-20T08:05:21.015771Z",
     "shell.execute_reply": "2023-05-20T08:05:21.014868Z"
    },
    "papermill": {
     "duration": 0.066304,
     "end_time": "2023-05-20T08:05:21.018336",
     "exception": false,
     "start_time": "2023-05-20T08:05:20.952032",
     "status": "completed"
    },
    "tags": []
   },
   "outputs": [
    {
     "data": {
      "text/html": [
       "<style>#sk-container-id-3 {color: black;}#sk-container-id-3 pre{padding: 0;}#sk-container-id-3 div.sk-toggleable {background-color: white;}#sk-container-id-3 label.sk-toggleable__label {cursor: pointer;display: block;width: 100%;margin-bottom: 0;padding: 0.3em;box-sizing: border-box;text-align: center;}#sk-container-id-3 label.sk-toggleable__label-arrow:before {content: \"▸\";float: left;margin-right: 0.25em;color: #696969;}#sk-container-id-3 label.sk-toggleable__label-arrow:hover:before {color: black;}#sk-container-id-3 div.sk-estimator:hover label.sk-toggleable__label-arrow:before {color: black;}#sk-container-id-3 div.sk-toggleable__content {max-height: 0;max-width: 0;overflow: hidden;text-align: left;background-color: #f0f8ff;}#sk-container-id-3 div.sk-toggleable__content pre {margin: 0.2em;color: black;border-radius: 0.25em;background-color: #f0f8ff;}#sk-container-id-3 input.sk-toggleable__control:checked~div.sk-toggleable__content {max-height: 200px;max-width: 100%;overflow: auto;}#sk-container-id-3 input.sk-toggleable__control:checked~label.sk-toggleable__label-arrow:before {content: \"▾\";}#sk-container-id-3 div.sk-estimator input.sk-toggleable__control:checked~label.sk-toggleable__label {background-color: #d4ebff;}#sk-container-id-3 div.sk-label input.sk-toggleable__control:checked~label.sk-toggleable__label {background-color: #d4ebff;}#sk-container-id-3 input.sk-hidden--visually {border: 0;clip: rect(1px 1px 1px 1px);clip: rect(1px, 1px, 1px, 1px);height: 1px;margin: -1px;overflow: hidden;padding: 0;position: absolute;width: 1px;}#sk-container-id-3 div.sk-estimator {font-family: monospace;background-color: #f0f8ff;border: 1px dotted black;border-radius: 0.25em;box-sizing: border-box;margin-bottom: 0.5em;}#sk-container-id-3 div.sk-estimator:hover {background-color: #d4ebff;}#sk-container-id-3 div.sk-parallel-item::after {content: \"\";width: 100%;border-bottom: 1px solid gray;flex-grow: 1;}#sk-container-id-3 div.sk-label:hover label.sk-toggleable__label {background-color: #d4ebff;}#sk-container-id-3 div.sk-serial::before {content: \"\";position: absolute;border-left: 1px solid gray;box-sizing: border-box;top: 0;bottom: 0;left: 50%;z-index: 0;}#sk-container-id-3 div.sk-serial {display: flex;flex-direction: column;align-items: center;background-color: white;padding-right: 0.2em;padding-left: 0.2em;position: relative;}#sk-container-id-3 div.sk-item {position: relative;z-index: 1;}#sk-container-id-3 div.sk-parallel {display: flex;align-items: stretch;justify-content: center;background-color: white;position: relative;}#sk-container-id-3 div.sk-item::before, #sk-container-id-3 div.sk-parallel-item::before {content: \"\";position: absolute;border-left: 1px solid gray;box-sizing: border-box;top: 0;bottom: 0;left: 50%;z-index: -1;}#sk-container-id-3 div.sk-parallel-item {display: flex;flex-direction: column;z-index: 1;position: relative;background-color: white;}#sk-container-id-3 div.sk-parallel-item:first-child::after {align-self: flex-end;width: 50%;}#sk-container-id-3 div.sk-parallel-item:last-child::after {align-self: flex-start;width: 50%;}#sk-container-id-3 div.sk-parallel-item:only-child::after {width: 0;}#sk-container-id-3 div.sk-dashed-wrapped {border: 1px dashed gray;margin: 0 0.4em 0.5em 0.4em;box-sizing: border-box;padding-bottom: 0.4em;background-color: white;}#sk-container-id-3 div.sk-label label {font-family: monospace;font-weight: bold;display: inline-block;line-height: 1.2em;}#sk-container-id-3 div.sk-label-container {text-align: center;}#sk-container-id-3 div.sk-container {/* jupyter's `normalize.less` sets `[hidden] { display: none; }` but bootstrap.min.css set `[hidden] { display: none !important; }` so we also need the `!important` here to be able to override the default hidden behavior on the sphinx rendered scikit-learn.org. See: https://github.com/scikit-learn/scikit-learn/issues/21755 */display: inline-block !important;position: relative;}#sk-container-id-3 div.sk-text-repr-fallback {display: none;}</style><div id=\"sk-container-id-3\" class=\"sk-top-container\"><div class=\"sk-text-repr-fallback\"><pre>LinearRegression()</pre><b>In a Jupyter environment, please rerun this cell to show the HTML representation or trust the notebook. <br />On GitHub, the HTML representation is unable to render, please try loading this page with nbviewer.org.</b></div><div class=\"sk-container\" hidden><div class=\"sk-item\"><div class=\"sk-estimator sk-toggleable\"><input class=\"sk-toggleable__control sk-hidden--visually\" id=\"sk-estimator-id-3\" type=\"checkbox\" checked><label for=\"sk-estimator-id-3\" class=\"sk-toggleable__label sk-toggleable__label-arrow\">LinearRegression</label><div class=\"sk-toggleable__content\"><pre>LinearRegression()</pre></div></div></div></div></div>"
      ],
      "text/plain": [
       "LinearRegression()"
      ]
     },
     "execution_count": 33,
     "metadata": {},
     "output_type": "execute_result"
    }
   ],
   "source": [
    "model_lr = LinearRegression()\n",
    "model_lr.fit(x_train, y_train)"
   ]
  },
  {
   "cell_type": "code",
   "execution_count": 34,
   "id": "ff8a2d49",
   "metadata": {
    "execution": {
     "iopub.execute_input": "2023-05-20T08:05:21.104636Z",
     "iopub.status.busy": "2023-05-20T08:05:21.104076Z",
     "iopub.status.idle": "2023-05-20T08:05:21.109449Z",
     "shell.execute_reply": "2023-05-20T08:05:21.108430Z"
    },
    "papermill": {
     "duration": 0.051924,
     "end_time": "2023-05-20T08:05:21.112269",
     "exception": false,
     "start_time": "2023-05-20T08:05:21.060345",
     "status": "completed"
    },
    "tags": []
   },
   "outputs": [],
   "source": [
    "y_pred_lr = model_lr.predict(x_test)"
   ]
  },
  {
   "cell_type": "code",
   "execution_count": 35,
   "id": "7dfe73ec",
   "metadata": {
    "execution": {
     "iopub.execute_input": "2023-05-20T08:05:21.196695Z",
     "iopub.status.busy": "2023-05-20T08:05:21.196140Z",
     "iopub.status.idle": "2023-05-20T08:05:21.426533Z",
     "shell.execute_reply": "2023-05-20T08:05:21.424963Z"
    },
    "papermill": {
     "duration": 0.275804,
     "end_time": "2023-05-20T08:05:21.429139",
     "exception": false,
     "start_time": "2023-05-20T08:05:21.153335",
     "status": "completed"
    },
    "tags": []
   },
   "outputs": [
    {
     "name": "stdout",
     "output_type": "stream",
     "text": [
      "R^2: 0.9672937151257293\n",
      "MSE: 11.488940149152928\n",
      "MAE: 8.441513553849523\n"
     ]
    }
   ],
   "source": [
    "score1 = model_lr.score(x_test, y_test)\n",
    "mae1 = mean_absolute_error(y_test,y_pred_lr)\n",
    "rmse1 = mean_squared_error(y_test, y_pred_lr, squared=False)\n",
    "print(\"R^2: {}\".format(score1))\n",
    "print(\"MSE: {}\".format(rmse1))\n",
    "print(\"MAE: {}\".format(mae1))"
   ]
  },
  {
   "cell_type": "markdown",
   "id": "d73731d7",
   "metadata": {},
   "source": [
    "# Accuracy"
   ]
  },
  {
   "cell_type": "code",
   "execution_count": 36,
   "id": "f43eae0b",
   "metadata": {},
   "outputs": [
    {
     "data": {
      "image/png": "[encoded data removed]",
      "text/plain": [
       "<Figure size 640x480 with 1 Axes>"
      ]
     },
     "metadata": {},
     "output_type": "display_data"
    }
   ],
   "source": [
    "plt.scatter(y_test, y_pred_lr)\n",
    "plt.plot(y_pred_lr, y_pred_lr,color = 'red')\n",
    "plt.xlabel(\"True Values\")\n",
    "plt.ylabel(\"Predicted Values\")\n",
    "plt.title(\"True vs Predicted Values\")\n",
    "plt.show()"
   ]
  },
  {
   "cell_type": "markdown",
   "id": "173c99b2",
   "metadata": {},
   "source": [
    "# KNN as Regressor"
   ]
  },
  {
   "cell_type": "code",
   "execution_count": 37,
   "id": "e2557711",
   "metadata": {},
   "outputs": [
    {
     "name": "stdout",
     "output_type": "stream",
     "text": [
      "MSE value for k=  1 is: 96.14433333333334\n",
      "MSE value for k=  2 is: 68.88933333333334\n",
      "MSE value for k=  3 is: 60.21281481481481\n",
      "MSE value for k=  4 is: 54.047958333333334\n",
      "MSE value for k=  5 is: 49.98678666666666\n",
      "MSE value for k=  6 is: 47.601203703703696\n",
      "MSE value for k=  7 is: 46.90551020408164\n",
      "MSE value for k=  8 is: 46.336104166666665\n",
      "MSE value for k=  9 is: 46.36055967078189\n",
      "MSE value for k=  10 is: 46.208713333333336\n",
      "MSE value for k=  11 is: 46.75419008264463\n",
      "MSE value for k=  12 is: 46.63460648148148\n",
      "MSE value for k=  13 is: 47.788242603550295\n",
      "MSE value for k=  14 is: 48.77778571428572\n",
      "MSE value for k=  15 is: 49.234490370370374\n",
      "MSE value for k=  16 is: 49.88169921875\n",
      "MSE value for k=  17 is: 50.6318339100346\n",
      "MSE value for k=  18 is: 51.53054423868313\n",
      "MSE value for k=  19 is: 52.45353185595568\n",
      "MSE value for k=  20 is: 53.25341333333333\n"
     ]
    }
   ],
   "source": [
    "mse_val = [] #to store rmse values for different k\n",
    "for K in range(20):\n",
    "    K = K+1\n",
    "    model = neighbors.KNeighborsRegressor(n_neighbors = K)\n",
    "\n",
    "    model.fit(x_train, y_train)  #fit the model\n",
    "    pred=model.predict(x_test) #make prediction on test set\n",
    "    error = mean_squared_error(y_test,pred) #calculate rmse\n",
    "    mse_val.append(error) #store rmse values\n",
    "    print('MSE value for k= ' , K , 'is:', error)"
   ]
  },
  {
   "cell_type": "code",
   "execution_count": 38,
   "id": "912ebba3",
   "metadata": {},
   "outputs": [],
   "source": [
    "error = []\n",
    "\n",
    "for i in range(1, 20):\n",
    "    knn = KNeighborsRegressor(n_neighbors=i)\n",
    "    knn.fit(x_train, y_train)\n",
    "    pred_i = knn.predict(x_test)\n",
    "    accuracy = mean_squared_error(y_test, pred_i)\n",
    "    error.append(accuracy)"
   ]
  },
  {
   "cell_type": "code",
   "execution_count": 39,
   "id": "13cf554f",
   "metadata": {},
   "outputs": [
    {
     "data": {
      "text/plain": [
       "Text(0, 0.5, 'Error')"
      ]
     },
     "execution_count": 39,
     "metadata": {},
     "output_type": "execute_result"
    },
    {
     "data": {
      "image/png": "[encoded data removed]",
      "text/plain": [
       "<Figure size 2000x1000 with 1 Axes>"
      ]
     },
     "metadata": {},
     "output_type": "display_data"
    }
   ],
   "source": [
    "plt.figure(figsize=(20, 10))\n",
    "plt.plot(range(1, 20), error, color='red', \n",
    "         linestyle='dashed', marker='o',\n",
    "         markerfacecolor='blue', markersize=10)\n",
    "         \n",
    "plt.title('K Value accuracy')\n",
    "plt.xlabel('K Value')\n",
    "plt.ylabel('Error')"
   ]
  },
  {
   "cell_type": "code",
   "execution_count": 40,
   "id": "7d59958f",
   "metadata": {},
   "outputs": [
    {
     "data": {
      "text/html": [
       "<style>#sk-container-id-4 {color: black;}#sk-container-id-4 pre{padding: 0;}#sk-container-id-4 div.sk-toggleable {background-color: white;}#sk-container-id-4 label.sk-toggleable__label {cursor: pointer;display: block;width: 100%;margin-bottom: 0;padding: 0.3em;box-sizing: border-box;text-align: center;}#sk-container-id-4 label.sk-toggleable__label-arrow:before {content: \"▸\";float: left;margin-right: 0.25em;color: #696969;}#sk-container-id-4 label.sk-toggleable__label-arrow:hover:before {color: black;}#sk-container-id-4 div.sk-estimator:hover label.sk-toggleable__label-arrow:before {color: black;}#sk-container-id-4 div.sk-toggleable__content {max-height: 0;max-width: 0;overflow: hidden;text-align: left;background-color: #f0f8ff;}#sk-container-id-4 div.sk-toggleable__content pre {margin: 0.2em;color: black;border-radius: 0.25em;background-color: #f0f8ff;}#sk-container-id-4 input.sk-toggleable__control:checked~div.sk-toggleable__content {max-height: 200px;max-width: 100%;overflow: auto;}#sk-container-id-4 input.sk-toggleable__control:checked~label.sk-toggleable__label-arrow:before {content: \"▾\";}#sk-container-id-4 div.sk-estimator input.sk-toggleable__control:checked~label.sk-toggleable__label {background-color: #d4ebff;}#sk-container-id-4 div.sk-label input.sk-toggleable__control:checked~label.sk-toggleable__label {background-color: #d4ebff;}#sk-container-id-4 input.sk-hidden--visually {border: 0;clip: rect(1px 1px 1px 1px);clip: rect(1px, 1px, 1px, 1px);height: 1px;margin: -1px;overflow: hidden;padding: 0;position: absolute;width: 1px;}#sk-container-id-4 div.sk-estimator {font-family: monospace;background-color: #f0f8ff;border: 1px dotted black;border-radius: 0.25em;box-sizing: border-box;margin-bottom: 0.5em;}#sk-container-id-4 div.sk-estimator:hover {background-color: #d4ebff;}#sk-container-id-4 div.sk-parallel-item::after {content: \"\";width: 100%;border-bottom: 1px solid gray;flex-grow: 1;}#sk-container-id-4 div.sk-label:hover label.sk-toggleable__label {background-color: #d4ebff;}#sk-container-id-4 div.sk-serial::before {content: \"\";position: absolute;border-left: 1px solid gray;box-sizing: border-box;top: 0;bottom: 0;left: 50%;z-index: 0;}#sk-container-id-4 div.sk-serial {display: flex;flex-direction: column;align-items: center;background-color: white;padding-right: 0.2em;padding-left: 0.2em;position: relative;}#sk-container-id-4 div.sk-item {position: relative;z-index: 1;}#sk-container-id-4 div.sk-parallel {display: flex;align-items: stretch;justify-content: center;background-color: white;position: relative;}#sk-container-id-4 div.sk-item::before, #sk-container-id-4 div.sk-parallel-item::before {content: \"\";position: absolute;border-left: 1px solid gray;box-sizing: border-box;top: 0;bottom: 0;left: 50%;z-index: -1;}#sk-container-id-4 div.sk-parallel-item {display: flex;flex-direction: column;z-index: 1;position: relative;background-color: white;}#sk-container-id-4 div.sk-parallel-item:first-child::after {align-self: flex-end;width: 50%;}#sk-container-id-4 div.sk-parallel-item:last-child::after {align-self: flex-start;width: 50%;}#sk-container-id-4 div.sk-parallel-item:only-child::after {width: 0;}#sk-container-id-4 div.sk-dashed-wrapped {border: 1px dashed gray;margin: 0 0.4em 0.5em 0.4em;box-sizing: border-box;padding-bottom: 0.4em;background-color: white;}#sk-container-id-4 div.sk-label label {font-family: monospace;font-weight: bold;display: inline-block;line-height: 1.2em;}#sk-container-id-4 div.sk-label-container {text-align: center;}#sk-container-id-4 div.sk-container {/* jupyter's `normalize.less` sets `[hidden] { display: none; }` but bootstrap.min.css set `[hidden] { display: none !important; }` so we also need the `!important` here to be able to override the default hidden behavior on the sphinx rendered scikit-learn.org. See: https://github.com/scikit-learn/scikit-learn/issues/21755 */display: inline-block !important;position: relative;}#sk-container-id-4 div.sk-text-repr-fallback {display: none;}</style><div id=\"sk-container-id-4\" class=\"sk-top-container\"><div class=\"sk-text-repr-fallback\"><pre>KNeighborsRegressor(n_neighbors=10)</pre><b>In a Jupyter environment, please rerun this cell to show the HTML representation or trust the notebook. <br />On GitHub, the HTML representation is unable to render, please try loading this page with nbviewer.org.</b></div><div class=\"sk-container\" hidden><div class=\"sk-item\"><div class=\"sk-estimator sk-toggleable\"><input class=\"sk-toggleable__control sk-hidden--visually\" id=\"sk-estimator-id-4\" type=\"checkbox\" checked><label for=\"sk-estimator-id-4\" class=\"sk-toggleable__label sk-toggleable__label-arrow\">KNeighborsRegressor</label><div class=\"sk-toggleable__content\"><pre>KNeighborsRegressor(n_neighbors=10)</pre></div></div></div></div></div>"
      ],
      "text/plain": [
       "KNeighborsRegressor(n_neighbors=10)"
      ]
     },
     "execution_count": 40,
     "metadata": {},
     "output_type": "execute_result"
    }
   ],
   "source": [
    "knn = KNeighborsRegressor(n_neighbors=10)\n",
    "knn.fit(x_train, y_train)"
   ]
  },
  {
   "cell_type": "code",
   "execution_count": 41,
   "id": "cc6d1eae",
   "metadata": {},
   "outputs": [],
   "source": [
    "y_pred_knn = knn.predict(x_test)"
   ]
  },
  {
   "cell_type": "code",
   "execution_count": 42,
   "id": "c4470544",
   "metadata": {},
   "outputs": [
    {
     "name": "stdout",
     "output_type": "stream",
     "text": [
      "R^2: 0.9885502723337267\n",
      "MSE: 46.208713333333336\n"
     ]
    }
   ],
   "source": [
    "score2 = r2_score(y_test, y_pred_knn)\n",
    "mse2 = mean_squared_error(y_test, y_pred_knn)\n",
    "print(f'R^2: {score2}')\n",
    "print(f'MSE: {mse2}')"
   ]
  },
  {
   "cell_type": "markdown",
   "id": "8697218d",
   "metadata": {},
   "source": [
    "# Comparison"
   ]
  },
  {
   "cell_type": "code",
   "execution_count": 43,
   "id": "2afdad56",
   "metadata": {},
   "outputs": [
    {
     "data": {
      "image/png": "[encoded data removed]",
      "text/plain": [
       "<Figure size 640x480 with 1 Axes>"
      ]
     },
     "metadata": {},
     "output_type": "display_data"
    },
    {
     "data": {
      "image/png": "[encoded data removed]",
      "text/plain": [
       "<Figure size 640x480 with 1 Axes>"
      ]
     },
     "metadata": {},
     "output_type": "display_data"
    }
   ],
   "source": [
    "pred=[y_pred_lr,y_pred_knn]\n",
    "acc=[]\n",
    "classifiers=[\"Linear Regression\",\"KNN\"]\n",
    "for i in pred:\n",
    "    temp= r2_score(y_test, i)\n",
    "    acc.append(temp)\n",
    "\n",
    "plt.barh(classifiers, acc)\n",
    "\n",
    "# Add labels and title\n",
    "plt.ylabel('classifiers')\n",
    "plt.xlabel('Accuracy')\n",
    "plt.title('Comparison')\n",
    "plt.show()\n",
    "\n",
    "pred=[y_pred_lr,y_pred_knn]\n",
    "acc=[]\n",
    "classifiers=[\"Linear Regression\",\"KNN\"]\n",
    "for i in pred:\n",
    "    temp= mean_squared_error (y_test, i)\n",
    "    acc.append(temp)\n",
    "\n",
    "plt.barh(classifiers, acc)\n",
    "\n",
    "# Add labels and title\n",
    "plt.ylabel('classifiers')\n",
    "plt.xlabel('MSE')\n",
    "plt.title('Comparison')\n",
    "plt.show()\n"
   ]
  },
  {
   "cell_type": "code",
   "execution_count": null,
   "id": "2dda9c51",
   "metadata": {},
   "outputs": [],
   "source": []
  }
 ],
 "metadata": {
  "kernelspec": {
   "display_name": "Python 3 (ipykernel)",
   "language": "python",
   "name": "python3"
  },
  "language_info": {
   "codemirror_mode": {
    "name": "ipython",
    "version": 3
   },
   "file_extension": ".py",
   "mimetype": "text/x-python",
   "name": "python",
   "nbconvert_exporter": "python",
   "pygments_lexer": "ipython3",
   "version": "3.11.5"
  },
  "papermill": {
   "default_parameters": {},
   "duration": 219.743276,
   "end_time": "2023-05-20T08:08:23.962259",
   "environment_variables": {},
   "exception": null,
   "input_path": "__notebook__.ipynb",
   "output_path": "__notebook__.ipynb",
   "parameters": {},
   "start_time": "2023-05-20T08:04:44.218983",
   "version": "2.4.0"
  }
 },
 "nbformat": 4,
 "nbformat_minor": 5
}
